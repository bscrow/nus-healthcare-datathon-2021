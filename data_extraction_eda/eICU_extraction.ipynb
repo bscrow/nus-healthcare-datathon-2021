{
 "cells": [
  {
   "cell_type": "code",
   "execution_count": 1,
   "id": "b3bdb245-149d-4878-bee6-d557b9c39663",
   "metadata": {},
   "outputs": [],
   "source": [
    "import pandas as pd\n",
    "import seaborn as sns\n",
    "import matplotlib.pyplot as plt\n",
    "import numpy as np\n",
    "from tqdm import tqdm\n",
    "sns.set_theme(style=\"darkgrid\")"
   ]
  },
  {
   "cell_type": "code",
   "execution_count": 2,
   "id": "b6e5397d-4bb7-4bae-84ad-cdba1a7e7850",
   "metadata": {},
   "outputs": [],
   "source": [
    "patients = pd.read_csv(\"model/data/eicu_patient_training.csv\", index_col=0)[\"0\"].to_list() \\\n",
    "        + pd.read_csv(\"model/data/eicu_patient_testing.csv\", index_col=0)[\"0\"].to_list()"
   ]
  },
  {
   "cell_type": "code",
   "execution_count": 179,
   "id": "d1a76d31-d53a-4fe7-9f08-bd7599402171",
   "metadata": {},
   "outputs": [],
   "source": [
    "with open(\"model/data/patients.txt\", \"w\") as f:\n",
    "    for patient in patients:\n",
    "        f.write(str(patient) + \"\\n\")"
   ]
  },
  {
   "cell_type": "markdown",
   "id": "67fceb50-853f-4db6-84e8-9f9d8776774b",
   "metadata": {},
   "source": [
    "## Patient static info\n",
    "\n",
    "age, gender, weight, height, ethnicity"
   ]
  },
  {
   "cell_type": "code",
   "execution_count": 337,
   "id": "50f4190e-037b-4fd0-acef-c8a237ea49a1",
   "metadata": {},
   "outputs": [],
   "source": [
    "patient_info = pd.read_csv(\"./eicu-collaborative-research-database-2.0/patient.csv.gz\", compression=\"gzip\")\n",
    "patient_info = patient_info[patient_info[\"patientunitstayid\"].isin(patients)][[\"patientunitstayid\", \"gender\", \"age\", \"ethnicity\", \"admissionheight\", \"admissionweight\", \"unitdischargestatus\"]]\n",
    "patient_info[\"unitdischargestatus\"].fillna(\"Alive\")\n",
    "patient_info.age = patient_info.age.replace(\"> 89\", \"89\").astype(int)\n",
    "# patient_info.to_csv(\"model/data/eicu_patients_basic_info.csv\", index=False)"
   ]
  },
  {
   "cell_type": "code",
   "execution_count": 336,
   "id": "f571d136-56f5-4170-99d9-6a2110a836e8",
   "metadata": {},
   "outputs": [
    {
     "data": {
      "text/html": [
       "<div>\n",
       "<style scoped>\n",
       "    .dataframe tbody tr th:only-of-type {\n",
       "        vertical-align: middle;\n",
       "    }\n",
       "\n",
       "    .dataframe tbody tr th {\n",
       "        vertical-align: top;\n",
       "    }\n",
       "\n",
       "    .dataframe thead th {\n",
       "        text-align: right;\n",
       "    }\n",
       "</style>\n",
       "<table border=\"1\" class=\"dataframe\">\n",
       "  <thead>\n",
       "    <tr style=\"text-align: right;\">\n",
       "      <th></th>\n",
       "      <th>patientunitstayid</th>\n",
       "      <th>patienthealthsystemstayid</th>\n",
       "      <th>gender</th>\n",
       "      <th>age</th>\n",
       "      <th>ethnicity</th>\n",
       "      <th>hospitalid</th>\n",
       "      <th>wardid</th>\n",
       "      <th>apacheadmissiondx</th>\n",
       "      <th>admissionheight</th>\n",
       "      <th>hospitaladmittime24</th>\n",
       "      <th>...</th>\n",
       "      <th>unitadmitsource</th>\n",
       "      <th>unitvisitnumber</th>\n",
       "      <th>unitstaytype</th>\n",
       "      <th>admissionweight</th>\n",
       "      <th>dischargeweight</th>\n",
       "      <th>unitdischargetime24</th>\n",
       "      <th>unitdischargeoffset</th>\n",
       "      <th>unitdischargelocation</th>\n",
       "      <th>unitdischargestatus</th>\n",
       "      <th>uniquepid</th>\n",
       "    </tr>\n",
       "  </thead>\n",
       "  <tbody>\n",
       "    <tr>\n",
       "      <th>0</th>\n",
       "      <td>141168</td>\n",
       "      <td>128919</td>\n",
       "      <td>Female</td>\n",
       "      <td>70</td>\n",
       "      <td>Caucasian</td>\n",
       "      <td>59</td>\n",
       "      <td>91</td>\n",
       "      <td>Rhythm disturbance (atrial, supraventricular)</td>\n",
       "      <td>152.4</td>\n",
       "      <td>15:54:00</td>\n",
       "      <td>...</td>\n",
       "      <td>Direct Admit</td>\n",
       "      <td>1</td>\n",
       "      <td>admit</td>\n",
       "      <td>84.3</td>\n",
       "      <td>85.8</td>\n",
       "      <td>03:50:00</td>\n",
       "      <td>3596</td>\n",
       "      <td>Death</td>\n",
       "      <td>Expired</td>\n",
       "      <td>002-34851</td>\n",
       "    </tr>\n",
       "    <tr>\n",
       "      <th>1</th>\n",
       "      <td>141178</td>\n",
       "      <td>128927</td>\n",
       "      <td>Female</td>\n",
       "      <td>52</td>\n",
       "      <td>Caucasian</td>\n",
       "      <td>60</td>\n",
       "      <td>83</td>\n",
       "      <td>NaN</td>\n",
       "      <td>162.6</td>\n",
       "      <td>08:56:00</td>\n",
       "      <td>...</td>\n",
       "      <td>Emergency Department</td>\n",
       "      <td>1</td>\n",
       "      <td>admit</td>\n",
       "      <td>54.4</td>\n",
       "      <td>54.4</td>\n",
       "      <td>09:18:00</td>\n",
       "      <td>8</td>\n",
       "      <td>Step-Down Unit (SDU)</td>\n",
       "      <td>Alive</td>\n",
       "      <td>002-33870</td>\n",
       "    </tr>\n",
       "    <tr>\n",
       "      <th>2</th>\n",
       "      <td>141179</td>\n",
       "      <td>128927</td>\n",
       "      <td>Female</td>\n",
       "      <td>52</td>\n",
       "      <td>Caucasian</td>\n",
       "      <td>60</td>\n",
       "      <td>83</td>\n",
       "      <td>NaN</td>\n",
       "      <td>162.6</td>\n",
       "      <td>08:56:00</td>\n",
       "      <td>...</td>\n",
       "      <td>ICU to SDU</td>\n",
       "      <td>2</td>\n",
       "      <td>stepdown/other</td>\n",
       "      <td>NaN</td>\n",
       "      <td>60.4</td>\n",
       "      <td>19:20:00</td>\n",
       "      <td>2042</td>\n",
       "      <td>Home</td>\n",
       "      <td>Alive</td>\n",
       "      <td>002-33870</td>\n",
       "    </tr>\n",
       "    <tr>\n",
       "      <th>3</th>\n",
       "      <td>141194</td>\n",
       "      <td>128941</td>\n",
       "      <td>Male</td>\n",
       "      <td>68</td>\n",
       "      <td>Caucasian</td>\n",
       "      <td>73</td>\n",
       "      <td>92</td>\n",
       "      <td>Sepsis, renal/UTI (including bladder)</td>\n",
       "      <td>180.3</td>\n",
       "      <td>18:18:40</td>\n",
       "      <td>...</td>\n",
       "      <td>Floor</td>\n",
       "      <td>1</td>\n",
       "      <td>admit</td>\n",
       "      <td>73.9</td>\n",
       "      <td>76.7</td>\n",
       "      <td>15:31:00</td>\n",
       "      <td>4813</td>\n",
       "      <td>Floor</td>\n",
       "      <td>Alive</td>\n",
       "      <td>002-5276</td>\n",
       "    </tr>\n",
       "    <tr>\n",
       "      <th>4</th>\n",
       "      <td>141196</td>\n",
       "      <td>128943</td>\n",
       "      <td>Male</td>\n",
       "      <td>71</td>\n",
       "      <td>Caucasian</td>\n",
       "      <td>67</td>\n",
       "      <td>109</td>\n",
       "      <td>NaN</td>\n",
       "      <td>162.6</td>\n",
       "      <td>20:21:00</td>\n",
       "      <td>...</td>\n",
       "      <td>ICU to SDU</td>\n",
       "      <td>2</td>\n",
       "      <td>stepdown/other</td>\n",
       "      <td>NaN</td>\n",
       "      <td>63.2</td>\n",
       "      <td>22:23:00</td>\n",
       "      <td>1463</td>\n",
       "      <td>Floor</td>\n",
       "      <td>Alive</td>\n",
       "      <td>002-37665</td>\n",
       "    </tr>\n",
       "  </tbody>\n",
       "</table>\n",
       "<p>5 rows × 29 columns</p>\n",
       "</div>"
      ],
      "text/plain": [
       "   patientunitstayid  patienthealthsystemstayid  gender age  ethnicity  \\\n",
       "0             141168                     128919  Female  70  Caucasian   \n",
       "1             141178                     128927  Female  52  Caucasian   \n",
       "2             141179                     128927  Female  52  Caucasian   \n",
       "3             141194                     128941    Male  68  Caucasian   \n",
       "4             141196                     128943    Male  71  Caucasian   \n",
       "\n",
       "   hospitalid  wardid                              apacheadmissiondx  \\\n",
       "0          59      91  Rhythm disturbance (atrial, supraventricular)   \n",
       "1          60      83                                            NaN   \n",
       "2          60      83                                            NaN   \n",
       "3          73      92          Sepsis, renal/UTI (including bladder)   \n",
       "4          67     109                                            NaN   \n",
       "\n",
       "   admissionheight hospitaladmittime24  ...       unitadmitsource  \\\n",
       "0            152.4            15:54:00  ...          Direct Admit   \n",
       "1            162.6            08:56:00  ...  Emergency Department   \n",
       "2            162.6            08:56:00  ...            ICU to SDU   \n",
       "3            180.3            18:18:40  ...                 Floor   \n",
       "4            162.6            20:21:00  ...            ICU to SDU   \n",
       "\n",
       "  unitvisitnumber    unitstaytype admissionweight  dischargeweight  \\\n",
       "0               1           admit            84.3             85.8   \n",
       "1               1           admit            54.4             54.4   \n",
       "2               2  stepdown/other             NaN             60.4   \n",
       "3               1           admit            73.9             76.7   \n",
       "4               2  stepdown/other             NaN             63.2   \n",
       "\n",
       "  unitdischargetime24 unitdischargeoffset unitdischargelocation  \\\n",
       "0            03:50:00                3596                 Death   \n",
       "1            09:18:00                   8  Step-Down Unit (SDU)   \n",
       "2            19:20:00                2042                  Home   \n",
       "3            15:31:00                4813                 Floor   \n",
       "4            22:23:00                1463                 Floor   \n",
       "\n",
       "  unitdischargestatus  uniquepid  \n",
       "0             Expired  002-34851  \n",
       "1               Alive  002-33870  \n",
       "2               Alive  002-33870  \n",
       "3               Alive   002-5276  \n",
       "4               Alive  002-37665  \n",
       "\n",
       "[5 rows x 29 columns]"
      ]
     },
     "execution_count": 336,
     "metadata": {},
     "output_type": "execute_result"
    }
   ],
   "source": [
    "patient_info.head()"
   ]
  },
  {
   "cell_type": "code",
   "execution_count": 164,
   "id": "590ebd3e-10ca-47cb-9e90-e31a4790de1b",
   "metadata": {},
   "outputs": [
    {
     "data": {
      "text/plain": [
       "<seaborn.axisgrid.PairGrid at 0x1afb6cdf710>"
      ]
     },
     "execution_count": 164,
     "metadata": {},
     "output_type": "execute_result"
    },
    {
     "data": {
      "image/png": "[encoded data removed]",
      "text/plain": [
       "<Figure size 616.35x540 with 12 Axes>"
      ]
     },
     "metadata": {},
     "output_type": "display_data"
    }
   ],
   "source": [
    "sns.pairplot(patient_info[[\"gender\", \"age\", \"ethnicity\", \"admissionheight\", \"admissionweight\"]], hue=\"gender\")"
   ]
  },
  {
   "cell_type": "code",
   "execution_count": 338,
   "id": "7ea336ca-e0cb-416f-9599-3ae83869e4f2",
   "metadata": {},
   "outputs": [],
   "source": [
    "apache = pd.read_csv(\"./eicu-collaborative-research-database-2.0/apachePredVar.csv.gz\", compression=\"gzip\")"
   ]
  },
  {
   "cell_type": "code",
   "execution_count": 340,
   "id": "44f2b1b9-8ae6-4415-ae81-921066a1721d",
   "metadata": {},
   "outputs": [],
   "source": [
    "apache[\"GCS\"] = apache[\"verbal\"] + apache[\"motor\"] + apache[\"eyes\"]"
   ]
  },
  {
   "cell_type": "code",
   "execution_count": 345,
   "id": "c2104a95-9f6b-45dd-90e9-8c95a27ee772",
   "metadata": {},
   "outputs": [],
   "source": [
    "patient_info1 = patient_info.merge(apache[[\"patientunitstayid\", \"GCS\"]], how=\"left\", on=\"patientunitstayid\")"
   ]
  },
  {
   "cell_type": "code",
   "execution_count": 347,
   "id": "29425a97-3df5-4319-bd74-1ae6ae7b154f",
   "metadata": {},
   "outputs": [],
   "source": [
    "patient_info1.to_csv(\"model/data/eicu_patients_basic_info_updated.csv\", index=False)"
   ]
  },
  {
   "cell_type": "markdown",
   "id": "a8fedfaa-af72-4cac-ae1e-8a732a230f54",
   "metadata": {},
   "source": [
    "## Diagnoses features\n",
    "\n",
    "TBI:\n",
    "ICD10CM: S02*, S04*, S06*, S07*, S09*, T02, T04, T06\n",
    "ICD9CM: 800*, 801*, 802*, 803*, 804*, 850.1 – 850.5, 850.9, 851*, 852*, 853*, 854*, 959.01\n",
    "\n",
    "Severe TBI:\n",
    "G93.5/348.4 Brain herniation, G93.6 Brain edema\n",
    "\n",
    "Intracerebral Hemorrhage:\n",
    "I61, 431, 432\n",
    "I60, 430\n",
    "430, 331.3, G91.0, I60.9\n",
    "I62.01, I62.02, 4321\n",
    "I62.1, 4320\n",
    "\n",
    "Acute Ischemic Stroke:\n",
    "I63, 433, 434.x1, I65\n",
    "\n",
    "Cerebral Venous Thrombosis:\n",
    "437.6, I67.6\n",
    "\n",
    "Hepatic encephalopathy and other non neurological encephalopathy:\n",
    "572.2, K72.01, K72.11,K72.91\n",
    "348.30, G93.40\n",
    "\n",
    "Chronic Neurosurgical Conditions (code all as 1 variable, there should be very few):\n",
    "331.3, 331.4, 331.5, G91\n",
    "348.2, G93.2\n",
    "I62.03"
   ]
  },
  {
   "cell_type": "code",
   "execution_count": null,
   "id": "06e63a69-d5e8-40ab-b7c6-c5e1531a880b",
   "metadata": {},
   "outputs": [],
   "source": [
    "diag = pd.read_csv(\"./eicu-collaborative-research-database-2.0/diagnosis.csv.gz\", compression=\"gzip\")"
   ]
  },
  {
   "cell_type": "code",
   "execution_count": null,
   "id": "cbba1797-488d-47f4-a71f-6ad2275ebfa2",
   "metadata": {},
   "outputs": [],
   "source": [
    "diagnoses = [\n",
    "    \"TBI\", \"Severe-TBI\", \"IH\", \"AIS\", \"CVT\", \"HE\", \"CNC\"\n",
    "]\n",
    "\n",
    "\n",
    "diagnosis_types_regex = [\n",
    "    r\"^(S0[24679]|T0[246]|80[0-4]|850.[1-59]|85[1-4]|959.01$)\", \n",
    "    r\"^G93.[56]\",\n",
    "    r\".*(G91.0|I6[01]|I62.(0[12]|1)|43[012]|331.3)\",\n",
    "    r\".*(I63|433|434.[0-9]1|I65)\",\n",
    "    r\".*(437.6|I67.6)\",\n",
    "    r\".*(572.2|K72.01|K72.11|K72.91|348.30|G93.40)\",\n",
    "    r\".*(331.[345]|G91|348.2|G93.2|I62.03)\"\n",
    "]\n",
    "\n",
    "diagnosis_types = []\n",
    "\n",
    "for regex in diagnosis_types_regex:\n",
    "    diagnosis_types.append(list(diag.loc[diag['icd9code'].str.match(regex) == True][\"patientunitstayid\"].unique()))\n",
    "    "
   ]
  },
  {
   "cell_type": "code",
   "execution_count": 175,
   "id": "77f6306a-93ea-46a2-9466-a772e142d56c",
   "metadata": {},
   "outputs": [],
   "source": [
    "patient_diags = []\n",
    "for patient in patients:\n",
    "    diags = [patient] + [0 for _ in range(len(diagnosis_types))]\n",
    "    for i, diag_type in enumerate(diagnosis_types):\n",
    "        if patient in diag_type:\n",
    "            diags[i+1] = 1\n",
    "    patient_diags.append(diags)\n",
    "\n",
    "patient_diags = pd.DataFrame(patient_diags, columns=[\"patientunitstayid\"] +diagnoses)\n",
    "patient_diags.to_csv(\"model/data/eicu_patient_diagnoses.csv\", index=False)"
   ]
  },
  {
   "cell_type": "markdown",
   "id": "9e9f596e-4531-47ab-8be2-61752cfc8a97",
   "metadata": {},
   "source": [
    "## Vital Signs (from nurse charting)"
   ]
  },
  {
   "cell_type": "code",
   "execution_count": 130,
   "id": "cda14e2b-aabd-43e3-8e10-024f8f70a1a2",
   "metadata": {},
   "outputs": [],
   "source": [
    "vitals = [\n",
    "    'Glasgow coma score - Eyes',\n",
    "    'Glasgow coma score - GCS Total',\n",
    "    'Glasgow coma score - Motor',\n",
    "    'Glasgow coma score - Verbal',\n",
    "    'Invasive BP - Invasive BP Diastolic',\n",
    "    'Invasive BP - Invasive BP Mean',\n",
    "    'Invasive BP - Invasive BP Systolic',\n",
    "    'Non-Invasive BP - Non-Invasive BP Diastolic',\n",
    "    'Non-Invasive BP - Non-Invasive BP Mean',\n",
    "    'Non-Invasive BP - Non-Invasive BP Systolic',\n",
    "    'CVP - CVP',\n",
    "    'Temperature - Temperature (C)',\n",
    "    'Heart Rate - Heart Rate',\n",
    "    'Respiratory Rate - Respiratory Rate',\n",
    "    'SpO2 - Value',\n",
    "]"
   ]
  },
  {
   "cell_type": "code",
   "execution_count": null,
   "id": "c7de93e0-fa77-4220-8084-b1d51794d51c",
   "metadata": {},
   "outputs": [],
   "source": [
    "nurseCharting = pd.read_csv(\"./eicu-collaborative-research-database-2.0/nurseCharting.csv.gz\", compression=\"gzip\", chunksize=50000)\n",
    "nurse = pd.DataFrame()\n",
    "for n in tqdm(nurseCharting):\n",
    "    nurse = nurse.append(n.loc[(n['patientunitstayid'].isin(patients))])"
   ]
  },
  {
   "cell_type": "code",
   "execution_count": 181,
   "id": "e2c67deb-1cc3-45ab-a61a-7e9d3e95ac30",
   "metadata": {},
   "outputs": [
    {
     "name": "stdout",
     "output_type": "stream",
     "text": [
      "nursingchartoffset\n",
      "nursingchartentryoffset\n"
     ]
    }
   ],
   "source": [
    "cols = list(nurse.columns)\n",
    "\n",
    "for col in cols:\n",
    "    if \"offset\" in col:\n",
    "        print(col)"
   ]
  },
  {
   "cell_type": "code",
   "execution_count": null,
   "id": "28d2d21c-673c-40e1-bf7f-a7dc079777e9",
   "metadata": {},
   "outputs": [],
   "source": [
    "nurse[\"comb\"] = nurse[\"nursingchartcelltypevallabel\"] + \" - \" + nurse[\"nursingchartcelltypevalname\"]"
   ]
  },
  {
   "cell_type": "code",
   "execution_count": 176,
   "id": "ebd467a5-f493-4d04-9996-10d55e7c7466",
   "metadata": {},
   "outputs": [
    {
     "name": "stdout",
     "output_type": "stream",
     "text": [
      "Glasgow coma score - Eyes (119482, 9)\n",
      "Glasgow coma score - GCS Total (137601, 9)\n",
      "Glasgow coma score - Motor (119450, 9)\n",
      "Glasgow coma score - Verbal (119408, 9)\n",
      "Invasive BP - Invasive BP Diastolic (132460, 9)\n",
      "Invasive BP - Invasive BP Mean (117982, 9)\n",
      "Invasive BP - Invasive BP Systolic (132462, 9)\n",
      "Non-Invasive BP - Non-Invasive BP Diastolic (291773, 9)\n",
      "Non-Invasive BP - Non-Invasive BP Mean (266981, 9)\n",
      "Non-Invasive BP - Non-Invasive BP Systolic (291776, 9)\n",
      "CVP - CVP (29439, 9)\n",
      "Temperature - Temperature (C) (176316, 9)\n",
      "Heart Rate - Heart Rate (391035, 9)\n",
      "Respiratory Rate - Respiratory Rate (366527, 9)\n",
      "SpO2 - Value (436, 9)\n"
     ]
    }
   ],
   "source": [
    "# sorted(nurse[\"comb\"].unique())\n",
    "for vital in vitals:\n",
    "    print(vital, nurse[nurse[\"comb\"]==vital].shape)"
   ]
  },
  {
   "cell_type": "code",
   "execution_count": 189,
   "id": "bbe32625-ef33-44c5-9709-09819bf26393",
   "metadata": {},
   "outputs": [
    {
     "ename": "ValueError",
     "evalue": "Columns must be same length as key",
     "output_type": "error",
     "traceback": [
      "\u001b[1;31m---------------------------------------------------------------------------\u001b[0m",
      "\u001b[1;31mValueError\u001b[0m                                Traceback (most recent call last)",
      "\u001b[1;32m~\\AppData\\Local\\Temp/ipykernel_15984/4085106923.py\u001b[0m in \u001b[0;36m<module>\u001b[1;34m\u001b[0m\n\u001b[1;32m----> 1\u001b[1;33m \u001b[0mpatient_vitals\u001b[0m\u001b[1;33m[\u001b[0m\u001b[1;33m[\u001b[0m\u001b[1;34m\"a\"\u001b[0m\u001b[1;33m,\u001b[0m\u001b[1;34m\"b\"\u001b[0m\u001b[1;33m]\u001b[0m\u001b[1;33m]\u001b[0m \u001b[1;33m=\u001b[0m \u001b[0mpd\u001b[0m\u001b[1;33m.\u001b[0m\u001b[0mDataFrame\u001b[0m\u001b[1;33m(\u001b[0m\u001b[1;33m[\u001b[0m\u001b[0mpatient_vitals\u001b[0m\u001b[1;33m[\u001b[0m\u001b[1;34m\"nursingchartoffset\"\u001b[0m\u001b[1;33m]\u001b[0m\u001b[1;33m,\u001b[0m \u001b[0mpatient_vitals\u001b[0m\u001b[1;33m[\u001b[0m\u001b[1;34m\"nursingchartoffset\"\u001b[0m\u001b[1;33m]\u001b[0m \u001b[1;33m-\u001b[0m\u001b[1;36m1\u001b[0m\u001b[1;33m]\u001b[0m\u001b[1;33m)\u001b[0m\u001b[1;33m\u001b[0m\u001b[0m\n\u001b[0m",
      "\u001b[1;32mc:\\users\\lenovo\\appdata\\local\\programs\\python\\python37\\lib\\site-packages\\pandas\\core\\frame.py\u001b[0m in \u001b[0;36m__setitem__\u001b[1;34m(self, key, value)\u001b[0m\n\u001b[0;32m   3039\u001b[0m             \u001b[0mself\u001b[0m\u001b[1;33m.\u001b[0m\u001b[0m_setitem_frame\u001b[0m\u001b[1;33m(\u001b[0m\u001b[0mkey\u001b[0m\u001b[1;33m,\u001b[0m \u001b[0mvalue\u001b[0m\u001b[1;33m)\u001b[0m\u001b[1;33m\u001b[0m\u001b[0m\n\u001b[0;32m   3040\u001b[0m         \u001b[1;32melif\u001b[0m \u001b[0misinstance\u001b[0m\u001b[1;33m(\u001b[0m\u001b[0mkey\u001b[0m\u001b[1;33m,\u001b[0m \u001b[1;33m(\u001b[0m\u001b[0mSeries\u001b[0m\u001b[1;33m,\u001b[0m \u001b[0mnp\u001b[0m\u001b[1;33m.\u001b[0m\u001b[0mndarray\u001b[0m\u001b[1;33m,\u001b[0m \u001b[0mlist\u001b[0m\u001b[1;33m,\u001b[0m \u001b[0mIndex\u001b[0m\u001b[1;33m)\u001b[0m\u001b[1;33m)\u001b[0m\u001b[1;33m:\u001b[0m\u001b[1;33m\u001b[0m\u001b[0m\n\u001b[1;32m-> 3041\u001b[1;33m             \u001b[0mself\u001b[0m\u001b[1;33m.\u001b[0m\u001b[0m_setitem_array\u001b[0m\u001b[1;33m(\u001b[0m\u001b[0mkey\u001b[0m\u001b[1;33m,\u001b[0m \u001b[0mvalue\u001b[0m\u001b[1;33m)\u001b[0m\u001b[1;33m\u001b[0m\u001b[0m\n\u001b[0m\u001b[0;32m   3042\u001b[0m         \u001b[1;32melse\u001b[0m\u001b[1;33m:\u001b[0m\u001b[1;33m\u001b[0m\u001b[0m\n\u001b[0;32m   3043\u001b[0m             \u001b[1;31m# set column\u001b[0m\u001b[1;33m\u001b[0m\u001b[1;33m\u001b[0m\u001b[0m\n",
      "\u001b[1;32mc:\\users\\lenovo\\appdata\\local\\programs\\python\\python37\\lib\\site-packages\\pandas\\core\\frame.py\u001b[0m in \u001b[0;36m_setitem_array\u001b[1;34m(self, key, value)\u001b[0m\n\u001b[0;32m   3065\u001b[0m             \u001b[1;32mif\u001b[0m \u001b[0misinstance\u001b[0m\u001b[1;33m(\u001b[0m\u001b[0mvalue\u001b[0m\u001b[1;33m,\u001b[0m \u001b[0mDataFrame\u001b[0m\u001b[1;33m)\u001b[0m\u001b[1;33m:\u001b[0m\u001b[1;33m\u001b[0m\u001b[0m\n\u001b[0;32m   3066\u001b[0m                 \u001b[1;32mif\u001b[0m \u001b[0mlen\u001b[0m\u001b[1;33m(\u001b[0m\u001b[0mvalue\u001b[0m\u001b[1;33m.\u001b[0m\u001b[0mcolumns\u001b[0m\u001b[1;33m)\u001b[0m \u001b[1;33m!=\u001b[0m \u001b[0mlen\u001b[0m\u001b[1;33m(\u001b[0m\u001b[0mkey\u001b[0m\u001b[1;33m)\u001b[0m\u001b[1;33m:\u001b[0m\u001b[1;33m\u001b[0m\u001b[0m\n\u001b[1;32m-> 3067\u001b[1;33m                     \u001b[1;32mraise\u001b[0m \u001b[0mValueError\u001b[0m\u001b[1;33m(\u001b[0m\u001b[1;34m\"Columns must be same length as key\"\u001b[0m\u001b[1;33m)\u001b[0m\u001b[1;33m\u001b[0m\u001b[0m\n\u001b[0m\u001b[0;32m   3068\u001b[0m                 \u001b[1;32mfor\u001b[0m \u001b[0mk1\u001b[0m\u001b[1;33m,\u001b[0m \u001b[0mk2\u001b[0m \u001b[1;32min\u001b[0m \u001b[0mzip\u001b[0m\u001b[1;33m(\u001b[0m\u001b[0mkey\u001b[0m\u001b[1;33m,\u001b[0m \u001b[0mvalue\u001b[0m\u001b[1;33m.\u001b[0m\u001b[0mcolumns\u001b[0m\u001b[1;33m)\u001b[0m\u001b[1;33m:\u001b[0m\u001b[1;33m\u001b[0m\u001b[0m\n\u001b[0;32m   3069\u001b[0m                     \u001b[0mself\u001b[0m\u001b[1;33m[\u001b[0m\u001b[0mk1\u001b[0m\u001b[1;33m]\u001b[0m \u001b[1;33m=\u001b[0m \u001b[0mvalue\u001b[0m\u001b[1;33m[\u001b[0m\u001b[0mk2\u001b[0m\u001b[1;33m]\u001b[0m\u001b[1;33m\u001b[0m\u001b[0m\n",
      "\u001b[1;31mValueError\u001b[0m: Columns must be same length as key"
     ]
    }
   ],
   "source": [
    "patient_vitals[[\"a\",\"b\"]] = pd.DataFrame([patient_vitals[\"nursingchartoffset\"], patient_vitals[\"nursingchartoffset\"] -1])"
   ]
  },
  {
   "cell_type": "code",
   "execution_count": 194,
   "id": "82acc99c-c442-4eb9-a596-45f7f5c40f67",
   "metadata": {},
   "outputs": [
    {
     "data": {
      "text/plain": [
       "patientunitstayid                                        2731139\n",
       "nursingchartoffset                                          -262\n",
       "nursingchartvalue                                            134\n",
       "comb                  Non-Invasive BP - Non-Invasive BP Systolic\n",
       "a                                                           -262\n",
       "b                     Non-Invasive BP - Non-Invasive BP Systolic\n",
       "Name: 110735799, dtype: object"
      ]
     },
     "execution_count": 194,
     "metadata": {},
     "output_type": "execute_result"
    }
   ],
   "source": [
    "patient_vitals.iloc[1,:]"
   ]
  },
  {
   "cell_type": "code",
   "execution_count": 131,
   "id": "0bddb201-dbf7-4134-a652-02481b7ec88a",
   "metadata": {
    "tags": []
   },
   "outputs": [],
   "source": [
    "sorted_nurse = nurse[[\"patientunitstayid\", \"nursingchartoffset\", \"nursingchartvalue\", \"comb\"]].loc[(nurse['comb'].isin(vitals))].sort_values(by=['patientunitstayid', \"nursingchartoffset\", \"comb\"])"
   ]
  },
  {
   "cell_type": "code",
   "execution_count": 132,
   "id": "f1733421-ed69-444f-99d6-0e87f1ba06e1",
   "metadata": {},
   "outputs": [
    {
     "name": "stderr",
     "output_type": "stream",
     "text": [
      "100%|████████████████████████████████████████████████████████████████████████████████| 889/889 [07:07<00:00,  2.08it/s]\n"
     ]
    }
   ],
   "source": [
    "records = []\n",
    "for patient in tqdm(patients):\n",
    "    patient_vitals = sorted_nurse[sorted_nurse['patientunitstayid']==patient]\n",
    "    for time in patient_vitals[\"nursingchartoffset\"].unique():\n",
    "        record = [patient, time] + [np.nan for _ in range(len(vitals))]\n",
    "        pv = patient_vitals[patient_vitals[\"nursingchartoffset\"]==time]\n",
    "        for index, row in pv.iterrows():\n",
    "            record[2 + vitals.index(row[\"comb\"])] = row[\"nursingchartvalue\"]\n",
    "        records.append(record)"
   ]
  },
  {
   "cell_type": "code",
   "execution_count": 168,
   "id": "c2bf311d-7280-4485-a016-43d179680f8f",
   "metadata": {},
   "outputs": [],
   "source": [
    "vitals_records = pd.DataFrame(records, columns=[\"patientunitstayid\", \"offset\"] + vitals)"
   ]
  },
  {
   "cell_type": "code",
   "execution_count": 171,
   "id": "4ad1e2ad-1015-425a-bc69-1fbb78fc9d05",
   "metadata": {},
   "outputs": [],
   "source": [
    "vitals_records.to_csv(\"model/data/eicu_vitals_records.csv\", index=False)"
   ]
  },
  {
   "cell_type": "markdown",
   "id": "cf56865e-d5a6-4b2d-a82d-64538c791278",
   "metadata": {},
   "source": [
    "## Drugs"
   ]
  },
  {
   "cell_type": "code",
   "execution_count": 348,
   "id": "7aeb6919-2055-435f-b5f7-b8309e10e602",
   "metadata": {},
   "outputs": [],
   "source": [
    "sal = [\n",
    "    ' 3% NACL (ml/hr)',\n",
    " '3 % NaCl (ml/hr)',\n",
    " '3 % SALINE (ml/hr)',\n",
    " '3 % saline (ml/hr)',\n",
    " '3 %NaCl (ml/hr)',\n",
    " '3 NACL (ml/hr)',\n",
    " '3 nacl (ml/hr)',\n",
    " '3%  SALINE (ml/hr)',\n",
    " '3% HYPERTONIC SALINE (ml/hr)',\n",
    " '3% Hypertonic NaCl (ml/hr)',\n",
    " '3% Hypertonic Saline',\n",
    " '3% Hypertonic Saline (ml/hr)',\n",
    " '3% NACL (ml/hr)',\n",
    " '3% NORMAL SALINE (ml/hr)',\n",
    " '3% NaCL  (ml/hr)',\n",
    " '3% NaCL (ml/hr)',\n",
    " '3% NaCl (ml/hr)',\n",
    " '3% Nacl (ml/hr)',\n",
    " '3% Normal Saline (ml/hr)',\n",
    " '3% SALINE (ml/hr)',\n",
    " '3% Saline (ml/hr)',\n",
    " '3% hypertonic saline  (ml/hr)',\n",
    " '3% hypertonic saline (ml/hr)',\n",
    " '3% nacl (ml/hr)',\n",
    " '3% normal saline (ml/hr)',\n",
    " '3% saline',\n",
    " '3% saline (ml/hr)',\n",
    " '3%NACL (ml/hr)',\n",
    " '3%NaCL (ml/hr)',\n",
    " '3%NaCl (ml/hr)',\n",
    " '3%Nacl (ml/hr)',\n",
    " '3%hypertonic saline (ml/hr)',\n",
    "'Hypertonic 3% Saline (ml/hr)',\n",
    " 'Hypertonic 3% saline (ml/hr)',\n",
    " 'Hypertonic Saline (ml/hr)',\n",
    " 'Hypertonic Saline 3% (ml/hr)',\n",
    " 'Hypertonic saline (ml/hr)',\n",
    "'NaCl 3% (ml/hr)',\n",
    " 'NaCl 3% Hypertonic (ml/hr)',\n",
    "'hypertonic saline (ml/hr)',\n",
    "    \"NaCl 3% (Hypertonic Saline)\",\n",
    "]\n",
    "\n",
    "sal_d = [ '23.4% NaCl (ml/hr)',\n",
    " '23.4% nacl (ml/hr)',]\n",
    "\n",
    "man = [\n",
    "    'Mannitol (ml/hr)',\n",
    " 'Mannitol 20%',\n",
    " 'Mannitol 20% (ml/hr)',\n",
    " 'Mannitol IVF Infused (ml/hr)',\n",
    " 'mannitol (ml/hr)',\n",
    "]\n",
    "\n",
    "drug_categories = [\n",
    "    [\n",
    "        \"Propofol\",\n",
    "        \"Lorazepam\",\n",
    "        \"Midazolam\",\n",
    "        \"Dexmedetomidine\",\n",
    "        \"Diazepam\",\n",
    "        \"Haloperidol\",\n",
    "        \"Etomidate\",\n",
    "        #Barbituate (in eICU under treatment: neurologic|therapy for controlling cerebral perfusion pressure|sedative agent|barbiturate),\n",
    "        \"Pentobarbital\",\n",
    "    ], \n",
    "    [\n",
    "        \"Cisatracurium\",\n",
    "        \"Vecuronium\",\n",
    "        \"Rocuronium\",\n",
    "        \"Atracurium\",\n",
    "    ],\n",
    "    [\n",
    "        \"Nicardipine\",\n",
    "        \"Nicardipine 40mg/200\",\n",
    "        \"Labetalol\",\n",
    "        \"Hydralazine\",\n",
    "        \"Nimodipine\",\n",
    "        \"Metoprolol\",\n",
    "        \"Esmolol\",\n",
    "        \"Milrinone\",\n",
    "        \"Dilitazem\",\n",
    "        \"Clevidipine\",\n",
    "        \"Meperidine\",\n",
    "        \"Verapamil\",\n",
    "    ],\n",
    "    [\n",
    "        \"Norepinephrine\",\n",
    "        \"Phenylephrine\",\n",
    "        \"Phenylephrine (50/250)\",\n",
    "        \"Phenylephrine (200/250)\",\n",
    "        \"Dopamine\",\n",
    "        \"Dobutamine\",\n",
    "        \"Epinephrine\",\n",
    "        \"Vasopressin\",\n",
    "    ],\n",
    "    [\n",
    "        \"Fentanyl\",\n",
    "        \"Fentanyl concentrate\",\n",
    "        \"Hydromorphone (Dilaudid)\",\n",
    "        \"Morphine Sulfate\",\n",
    "        \"Meperidine (Demerol)\",\n",
    "        \"Acetaminophen\",\n",
    "    ],\n",
    "    [\n",
    "        \"Heparin\",\n",
    "        \"Heparin Sodium\",\n",
    "        \"Enoxaparin (Lovenox)\",\n",
    "        \"Coumadin (Warfarin)\",\n",
    "    ],\n",
    "    [\n",
    "        \"Keppra (Levitaceram)\",\n",
    "        \"Gabapentin\",\n",
    "        \"Diazepam\",\n",
    "        \"Fosphenytoin\",\n",
    "    ],\n",
    "    [\n",
    "        \"OR Crystalloid Intake\",\n",
    "        \"D5 1/2NS\",\n",
    "        \"D5NS\",\n",
    "        \"OR Colloid Intake\",\n",
    "        \"D5LR\",\n",
    "        \"Albumin 5%\",\n",
    "        \"Dextrose 50%\",\n",
    "        \"Albumin 25%\",\n",
    "        \"Dextrose 10%\"\n",
    "    ]\n",
    "]\n",
    "\n",
    "drug_category_names = [\n",
    "    \"Sedatives\", \"Paralytics\", \"Antihypertensives\", \"Vasopressors\", \"Opoids\", \"Anticoagulants\", \"Anti-epileptics\", \"Fluid Resuscitation\"\n",
    "]"
   ]
  },
  {
   "cell_type": "code",
   "execution_count": 172,
   "id": "ae599f98-6d36-402d-9a2a-55f75ad7ab09",
   "metadata": {},
   "outputs": [
    {
     "name": "stderr",
     "output_type": "stream",
     "text": [
      "c:\\users\\lenovo\\appdata\\local\\programs\\python\\python37\\lib\\site-packages\\IPython\\core\\interactiveshell.py:3173: DtypeWarning: Columns (4) have mixed types.Specify dtype option on import or set low_memory=False.\n",
      "  interactivity=interactivity, compiler=compiler, result=result)\n"
     ]
    }
   ],
   "source": [
    "drugs = pd.read_csv(\"./eicu-collaborative-research-database-2.0/infusionDrug.csv.gz\", compression=\"gzip\")"
   ]
  },
  {
   "cell_type": "code",
   "execution_count": 360,
   "id": "6c223757-743c-4eec-bc5b-965130e44593",
   "metadata": {},
   "outputs": [],
   "source": [
    "def label_drug(row):\n",
    "#     if str(row[\"drugname\"]) in man:\n",
    "#         return \"mannitol\"\n",
    "#     elif str(row[\"drugname\"]) in sal:\n",
    "#         return \"hypertonic saline\"\n",
    "#     else:\n",
    "    for i, category in enumerate(drug_categories):\n",
    "        if str(row[\"drugname\"]) in category:\n",
    "            return drug_category_names[i]\n",
    "    return \"others\"\n",
    "\n",
    "patient_drugs1 = drugs[drugs[\"patientunitstayid\"].isin(patients)].copy()\n",
    "patient_drugs1[\"drug_all\"] = patient_drugs1.apply(label_drug, axis=1)"
   ]
  },
  {
   "cell_type": "code",
   "execution_count": 361,
   "id": "19b73e28-2bc0-493c-a180-6b69fe0f466d",
   "metadata": {
    "tags": []
   },
   "outputs": [
    {
     "data": {
      "text/plain": [
       "drug_all         \n",
       "Anticoagulants            3\n",
       "Antihypertensives        98\n",
       "Opoids                   64\n",
       "Sedatives               127\n",
       "Vasopressors             86\n",
       "others               128966\n",
       "dtype: int64"
      ]
     },
     "execution_count": 361,
     "metadata": {},
     "output_type": "execute_result"
    }
   ],
   "source": [
    "patient_drugs1.value_counts([\"drug_all\"]).sort_index()"
   ]
  },
  {
   "cell_type": "code",
   "execution_count": 362,
   "id": "c36fba68-9723-416c-955c-bcec8097ec8d",
   "metadata": {},
   "outputs": [],
   "source": [
    "patient_drugs1 = patient_drugs1[patient_drugs1[\"drug_all\"].isin(drug_category_names)]"
   ]
  },
  {
   "cell_type": "code",
   "execution_count": 365,
   "id": "6d2d156c-11f8-4997-a1ca-590db7c2b089",
   "metadata": {},
   "outputs": [
    {
     "data": {
      "text/plain": [
       "(378, 10)"
      ]
     },
     "execution_count": 365,
     "metadata": {},
     "output_type": "execute_result"
    }
   ],
   "source": [
    "patient_drugs1.shape"
   ]
  },
  {
   "cell_type": "code",
   "execution_count": 364,
   "id": "c750fc65-dbe8-4685-b8cb-2ef7f49ada16",
   "metadata": {},
   "outputs": [
    {
     "data": {
      "text/plain": [
       "infusiondrugid         0\n",
       "patientunitstayid      0\n",
       "infusionoffset         0\n",
       "drugname               0\n",
       "drugrate             378\n",
       "infusionrate         378\n",
       "drugamount           378\n",
       "volumeoffluid        378\n",
       "patientweight        378\n",
       "drug_all               0\n",
       "dtype: int64"
      ]
     },
     "execution_count": 364,
     "metadata": {},
     "output_type": "execute_result"
    }
   ],
   "source": [
    "patient_drugs1.isna().sum()"
   ]
  },
  {
   "cell_type": "code",
   "execution_count": 366,
   "id": "01eb4693-ee56-43fd-b481-d8d90df19fb9",
   "metadata": {},
   "outputs": [],
   "source": [
    "patient_drugs1_onehot = pd.get_dummies(patient_drugs1[\"drug_all\"]).astype(int)"
   ]
  },
  {
   "cell_type": "code",
   "execution_count": 368,
   "id": "439fc1bf-5adf-47c9-b798-cf98502ecc37",
   "metadata": {},
   "outputs": [],
   "source": [
    "drugs1_final = pd.concat([patient_drugs1[[\"patientunitstayid\", \"infusionoffset\"]], patient_drugs1_onehot], axis=1)"
   ]
  },
  {
   "cell_type": "code",
   "execution_count": 369,
   "id": "ea766c83-4ebd-465d-94eb-ec5bb527ff86",
   "metadata": {},
   "outputs": [],
   "source": [
    "drugs1_final[\"offset\"] = drugs1_final.apply(interpolate_infusion_offset, axis=1)"
   ]
  },
  {
   "cell_type": "code",
   "execution_count": 370,
   "id": "c2f0b79c-508e-44b1-859b-0d98b837dde1",
   "metadata": {},
   "outputs": [
    {
     "data": {
      "text/html": [
       "<div>\n",
       "<style scoped>\n",
       "    .dataframe tbody tr th:only-of-type {\n",
       "        vertical-align: middle;\n",
       "    }\n",
       "\n",
       "    .dataframe tbody tr th {\n",
       "        vertical-align: top;\n",
       "    }\n",
       "\n",
       "    .dataframe thead th {\n",
       "        text-align: right;\n",
       "    }\n",
       "</style>\n",
       "<table border=\"1\" class=\"dataframe\">\n",
       "  <thead>\n",
       "    <tr style=\"text-align: right;\">\n",
       "      <th></th>\n",
       "      <th>patientunitstayid</th>\n",
       "      <th>infusionoffset</th>\n",
       "      <th>Anticoagulants</th>\n",
       "      <th>Antihypertensives</th>\n",
       "      <th>Opoids</th>\n",
       "      <th>Sedatives</th>\n",
       "      <th>Vasopressors</th>\n",
       "      <th>offset</th>\n",
       "    </tr>\n",
       "  </thead>\n",
       "  <tbody>\n",
       "    <tr>\n",
       "      <th>345761</th>\n",
       "      <td>502503</td>\n",
       "      <td>18192</td>\n",
       "      <td>0</td>\n",
       "      <td>1</td>\n",
       "      <td>0</td>\n",
       "      <td>0</td>\n",
       "      <td>0</td>\n",
       "      <td>18195</td>\n",
       "    </tr>\n",
       "    <tr>\n",
       "      <th>345767</th>\n",
       "      <td>502503</td>\n",
       "      <td>18132</td>\n",
       "      <td>0</td>\n",
       "      <td>0</td>\n",
       "      <td>0</td>\n",
       "      <td>0</td>\n",
       "      <td>1</td>\n",
       "      <td>18135</td>\n",
       "    </tr>\n",
       "    <tr>\n",
       "      <th>345771</th>\n",
       "      <td>502503</td>\n",
       "      <td>18132</td>\n",
       "      <td>0</td>\n",
       "      <td>1</td>\n",
       "      <td>0</td>\n",
       "      <td>0</td>\n",
       "      <td>0</td>\n",
       "      <td>18135</td>\n",
       "    </tr>\n",
       "    <tr>\n",
       "      <th>345845</th>\n",
       "      <td>502503</td>\n",
       "      <td>18072</td>\n",
       "      <td>0</td>\n",
       "      <td>1</td>\n",
       "      <td>0</td>\n",
       "      <td>0</td>\n",
       "      <td>0</td>\n",
       "      <td>18075</td>\n",
       "    </tr>\n",
       "    <tr>\n",
       "      <th>345897</th>\n",
       "      <td>502503</td>\n",
       "      <td>18192</td>\n",
       "      <td>0</td>\n",
       "      <td>0</td>\n",
       "      <td>0</td>\n",
       "      <td>0</td>\n",
       "      <td>1</td>\n",
       "      <td>18195</td>\n",
       "    </tr>\n",
       "    <tr>\n",
       "      <th>...</th>\n",
       "      <td>...</td>\n",
       "      <td>...</td>\n",
       "      <td>...</td>\n",
       "      <td>...</td>\n",
       "      <td>...</td>\n",
       "      <td>...</td>\n",
       "      <td>...</td>\n",
       "      <td>...</td>\n",
       "    </tr>\n",
       "    <tr>\n",
       "      <th>4519942</th>\n",
       "      <td>3125185</td>\n",
       "      <td>3499</td>\n",
       "      <td>0</td>\n",
       "      <td>0</td>\n",
       "      <td>0</td>\n",
       "      <td>0</td>\n",
       "      <td>1</td>\n",
       "      <td>3500</td>\n",
       "    </tr>\n",
       "    <tr>\n",
       "      <th>4695457</th>\n",
       "      <td>3208770</td>\n",
       "      <td>29172</td>\n",
       "      <td>0</td>\n",
       "      <td>0</td>\n",
       "      <td>0</td>\n",
       "      <td>1</td>\n",
       "      <td>0</td>\n",
       "      <td>-10000</td>\n",
       "    </tr>\n",
       "    <tr>\n",
       "      <th>4732572</th>\n",
       "      <td>3229717</td>\n",
       "      <td>2928</td>\n",
       "      <td>0</td>\n",
       "      <td>0</td>\n",
       "      <td>1</td>\n",
       "      <td>0</td>\n",
       "      <td>0</td>\n",
       "      <td>3130</td>\n",
       "    </tr>\n",
       "    <tr>\n",
       "      <th>4735535</th>\n",
       "      <td>3232358</td>\n",
       "      <td>7020</td>\n",
       "      <td>0</td>\n",
       "      <td>0</td>\n",
       "      <td>0</td>\n",
       "      <td>1</td>\n",
       "      <td>0</td>\n",
       "      <td>6026</td>\n",
       "    </tr>\n",
       "    <tr>\n",
       "      <th>4758829</th>\n",
       "      <td>3245300</td>\n",
       "      <td>11314</td>\n",
       "      <td>0</td>\n",
       "      <td>1</td>\n",
       "      <td>0</td>\n",
       "      <td>0</td>\n",
       "      <td>0</td>\n",
       "      <td>-10000</td>\n",
       "    </tr>\n",
       "  </tbody>\n",
       "</table>\n",
       "<p>378 rows × 8 columns</p>\n",
       "</div>"
      ],
      "text/plain": [
       "         patientunitstayid  infusionoffset  Anticoagulants  Antihypertensives  \\\n",
       "345761              502503           18192               0                  1   \n",
       "345767              502503           18132               0                  0   \n",
       "345771              502503           18132               0                  1   \n",
       "345845              502503           18072               0                  1   \n",
       "345897              502503           18192               0                  0   \n",
       "...                    ...             ...             ...                ...   \n",
       "4519942            3125185            3499               0                  0   \n",
       "4695457            3208770           29172               0                  0   \n",
       "4732572            3229717            2928               0                  0   \n",
       "4735535            3232358            7020               0                  0   \n",
       "4758829            3245300           11314               0                  1   \n",
       "\n",
       "         Opoids  Sedatives  Vasopressors  offset  \n",
       "345761        0          0             0   18195  \n",
       "345767        0          0             1   18135  \n",
       "345771        0          0             0   18135  \n",
       "345845        0          0             0   18075  \n",
       "345897        0          0             1   18195  \n",
       "...         ...        ...           ...     ...  \n",
       "4519942       0          0             1    3500  \n",
       "4695457       0          1             0  -10000  \n",
       "4732572       1          0             0    3130  \n",
       "4735535       0          1             0    6026  \n",
       "4758829       0          0             0  -10000  \n",
       "\n",
       "[378 rows x 8 columns]"
      ]
     },
     "execution_count": 370,
     "metadata": {},
     "output_type": "execute_result"
    }
   ],
   "source": [
    "drugs1_final"
   ]
  },
  {
   "cell_type": "code",
   "execution_count": 373,
   "id": "5900365a-e213-4cb5-a0fd-abcf718e4c38",
   "metadata": {},
   "outputs": [],
   "source": [
    "c = [\"Anticoagulants\",\"Antihypertensives\",\"Opoids\",\"Sedatives\",\"Vasopressors\"]"
   ]
  },
  {
   "cell_type": "code",
   "execution_count": 374,
   "id": "5f7f03e7-d504-4f61-811e-476fed9c8ae6",
   "metadata": {},
   "outputs": [],
   "source": [
    "vitals3 = vitals2.merge(drugs1_final, how=\"left\", left_on=[\"patientunitstayid\", \"observationoffset\"], right_on=[\"patientunitstayid\", \"offset\"])\n",
    "vitals3[c] = vitals3[c].fillna(0)"
   ]
  },
  {
   "cell_type": "code",
   "execution_count": 375,
   "id": "4629c744-159e-4048-8874-ac583179723c",
   "metadata": {},
   "outputs": [],
   "source": [
    "vitals3_cumsum_list = []\n",
    "for patient in list(vitals3[\"patientunitstayid\"].unique()):\n",
    "    patient_vt = vitals3[vitals3[\"patientunitstayid\"]==patient].copy()\n",
    "    for col in c:\n",
    "        patient_vt[\"Culmulative \" + col] = patient_vt[col].cumsum()\n",
    "    vitals3_cumsum_list.append(patient_vt)"
   ]
  },
  {
   "cell_type": "code",
   "execution_count": 376,
   "id": "eb0c481e-b489-4175-8b9b-3f638ce3167d",
   "metadata": {},
   "outputs": [],
   "source": [
    "vitals3_cumsum = pd.concat(vitals3_cumsum_list, axis=0)"
   ]
  },
  {
   "cell_type": "code",
   "execution_count": 383,
   "id": "967f5036-d6c0-46a1-b735-7354103cbcc0",
   "metadata": {},
   "outputs": [],
   "source": [
    "vitals3_cumsum.drop([\"offset\", \"infusionoffset\"], axis=1).to_csv(\"model/data/eicu_vitals_final.csv\", index=False)"
   ]
  },
  {
   "cell_type": "code",
   "execution_count": null,
   "id": "a8d16e2f-5966-4190-84da-1325d16c8064",
   "metadata": {},
   "outputs": [],
   "source": []
  },
  {
   "cell_type": "code",
   "execution_count": 358,
   "id": "867ca07c-55bc-4288-bc59-21550bb9d4d1",
   "metadata": {},
   "outputs": [
    {
     "data": {
      "text/plain": [
       "345761    NaN\n",
       "345767    NaN\n",
       "345771    NaN\n",
       "345845    NaN\n",
       "345897    NaN\n",
       "           ..\n",
       "4519942   NaN\n",
       "4695457   NaN\n",
       "4732572   NaN\n",
       "4735535   NaN\n",
       "4758829   NaN\n",
       "Name: drugrate, Length: 378, dtype: float32"
      ]
     },
     "execution_count": 358,
     "metadata": {},
     "output_type": "execute_result"
    }
   ],
   "source": [
    "patient_drugs1[\"drugrate\"].astype(\"float32\")"
   ]
  },
  {
   "cell_type": "code",
   "execution_count": 279,
   "id": "a1165111-0913-4c20-8420-ddc42c9773c9",
   "metadata": {},
   "outputs": [],
   "source": [
    "hm = patient_drugs[(patient_drugs[\"drug\"].isin([\"hypertonic saline\", \"mannitol\"])) & (patient_drugs[\"drugrate\"] > 0)]"
   ]
  },
  {
   "cell_type": "code",
   "execution_count": 291,
   "id": "3af97c87-5da4-4fd4-a382-12bd80af6d71",
   "metadata": {},
   "outputs": [
    {
     "data": {
      "text/html": [
       "<div>\n",
       "<style scoped>\n",
       "    .dataframe tbody tr th:only-of-type {\n",
       "        vertical-align: middle;\n",
       "    }\n",
       "\n",
       "    .dataframe tbody tr th {\n",
       "        vertical-align: top;\n",
       "    }\n",
       "\n",
       "    .dataframe thead th {\n",
       "        text-align: right;\n",
       "    }\n",
       "</style>\n",
       "<table border=\"1\" class=\"dataframe\">\n",
       "  <thead>\n",
       "    <tr style=\"text-align: right;\">\n",
       "      <th></th>\n",
       "      <th>infusiondrugid</th>\n",
       "      <th>patientunitstayid</th>\n",
       "      <th>infusionoffset</th>\n",
       "      <th>drugname</th>\n",
       "      <th>drugrate</th>\n",
       "      <th>infusionrate</th>\n",
       "      <th>drugamount</th>\n",
       "      <th>volumeoffluid</th>\n",
       "      <th>patientweight</th>\n",
       "      <th>drug</th>\n",
       "    </tr>\n",
       "  </thead>\n",
       "  <tbody>\n",
       "    <tr>\n",
       "      <th>13389</th>\n",
       "      <td>1965137.0</td>\n",
       "      <td>306989.0</td>\n",
       "      <td>1625.0</td>\n",
       "      <td>NaCl 3% (ml/hr)</td>\n",
       "      <td>30.0</td>\n",
       "      <td>30.0</td>\n",
       "      <td>NaN</td>\n",
       "      <td>NaN</td>\n",
       "      <td>NaN</td>\n",
       "      <td>hypertonic saline</td>\n",
       "    </tr>\n",
       "    <tr>\n",
       "      <th>13390</th>\n",
       "      <td>1953244.0</td>\n",
       "      <td>306989.0</td>\n",
       "      <td>1865.0</td>\n",
       "      <td>NaCl 3% (ml/hr)</td>\n",
       "      <td>30.0</td>\n",
       "      <td>30.0</td>\n",
       "      <td>NaN</td>\n",
       "      <td>NaN</td>\n",
       "      <td>NaN</td>\n",
       "      <td>hypertonic saline</td>\n",
       "    </tr>\n",
       "    <tr>\n",
       "      <th>13391</th>\n",
       "      <td>1950727.0</td>\n",
       "      <td>306989.0</td>\n",
       "      <td>2165.0</td>\n",
       "      <td>NaCl 3% (ml/hr)</td>\n",
       "      <td>30.0</td>\n",
       "      <td>30.0</td>\n",
       "      <td>NaN</td>\n",
       "      <td>NaN</td>\n",
       "      <td>NaN</td>\n",
       "      <td>hypertonic saline</td>\n",
       "    </tr>\n",
       "    <tr>\n",
       "      <th>13392</th>\n",
       "      <td>1958210.0</td>\n",
       "      <td>306989.0</td>\n",
       "      <td>425.0</td>\n",
       "      <td>NaCl 3% (ml/hr)</td>\n",
       "      <td>30.0</td>\n",
       "      <td>30.0</td>\n",
       "      <td>NaN</td>\n",
       "      <td>NaN</td>\n",
       "      <td>NaN</td>\n",
       "      <td>hypertonic saline</td>\n",
       "    </tr>\n",
       "    <tr>\n",
       "      <th>93123</th>\n",
       "      <td>6113268.0</td>\n",
       "      <td>443007.0</td>\n",
       "      <td>17678.0</td>\n",
       "      <td>3% SALINE (ml/hr)</td>\n",
       "      <td>40.0</td>\n",
       "      <td>40.0</td>\n",
       "      <td>NaN</td>\n",
       "      <td>NaN</td>\n",
       "      <td>NaN</td>\n",
       "      <td>hypertonic saline</td>\n",
       "    </tr>\n",
       "  </tbody>\n",
       "</table>\n",
       "</div>"
      ],
      "text/plain": [
       "       infusiondrugid  patientunitstayid  infusionoffset           drugname  \\\n",
       "13389       1965137.0           306989.0          1625.0    NaCl 3% (ml/hr)   \n",
       "13390       1953244.0           306989.0          1865.0    NaCl 3% (ml/hr)   \n",
       "13391       1950727.0           306989.0          2165.0    NaCl 3% (ml/hr)   \n",
       "13392       1958210.0           306989.0           425.0    NaCl 3% (ml/hr)   \n",
       "93123       6113268.0           443007.0         17678.0  3% SALINE (ml/hr)   \n",
       "\n",
       "       drugrate  infusionrate  drugamount  volumeoffluid  patientweight  \\\n",
       "13389      30.0          30.0         NaN            NaN            NaN   \n",
       "13390      30.0          30.0         NaN            NaN            NaN   \n",
       "13391      30.0          30.0         NaN            NaN            NaN   \n",
       "13392      30.0          30.0         NaN            NaN            NaN   \n",
       "93123      40.0          40.0         NaN            NaN            NaN   \n",
       "\n",
       "                    drug  \n",
       "13389  hypertonic saline  \n",
       "13390  hypertonic saline  \n",
       "13391  hypertonic saline  \n",
       "13392  hypertonic saline  \n",
       "93123  hypertonic saline  "
      ]
     },
     "execution_count": 291,
     "metadata": {},
     "output_type": "execute_result"
    }
   ],
   "source": [
    "hm.head()"
   ]
  },
  {
   "cell_type": "code",
   "execution_count": 286,
   "id": "72f62d80-e0c4-428b-84a0-d0fc88eafdfc",
   "metadata": {},
   "outputs": [],
   "source": [
    "hm_onehot = pd.get_dummies(hm[\"drug\"]).astype(int) #* hm[[\"drugrate\", \"drugrate\"]].astype(float)"
   ]
  },
  {
   "cell_type": "code",
   "execution_count": 289,
   "id": "d902c73e-8aee-4a5e-b614-74d60784cfd6",
   "metadata": {},
   "outputs": [],
   "source": [
    "# hm_onehot[\"hypertonic saline\"] = hm_onehot[\"hypertonic saline\"] * hm[\"drugrate\"]\n",
    "# hm_onehot[\"mannitol\"] = hm_onehot[\"mannitol\"] * hm[\"drugrate\"]"
   ]
  },
  {
   "cell_type": "code",
   "execution_count": 295,
   "id": "a8704b74-2cee-4f6f-bc90-b25156fcc652",
   "metadata": {},
   "outputs": [],
   "source": [
    "hm_final = pd.concat([hm[[\"patientunitstayid\", \"infusionoffset\"]], hm_onehot], axis=1)"
   ]
  },
  {
   "cell_type": "code",
   "execution_count": 318,
   "id": "9ba88a16-82be-48b0-b505-5bd69d0164b9",
   "metadata": {},
   "outputs": [],
   "source": [
    "def interpolate_infusion_offset(row):\n",
    "    offsets = vitals[vitals[\"patientunitstayid\"]==row[\"patientunitstayid\"]][\"observationoffset\"].astype(int).to_list()\n",
    "    offset = -10000\n",
    "    min_diff = 1000\n",
    "    for po in offsets:\n",
    "        if abs(po - row[\"infusionoffset\"]) < min_diff:\n",
    "            min_diff = abs(po - offset)\n",
    "            offset = po\n",
    "    return offset"
   ]
  },
  {
   "cell_type": "code",
   "execution_count": 319,
   "id": "f834b3b1-cee5-4f87-a966-9e5d157acd3b",
   "metadata": {},
   "outputs": [],
   "source": [
    "hm_final[\"offset\"] = hm_final.apply(interpolate_infusion_offset, axis=1)"
   ]
  },
  {
   "cell_type": "code",
   "execution_count": 320,
   "id": "97921b71-73d9-46a1-9934-386b6cf08b55",
   "metadata": {},
   "outputs": [],
   "source": [
    "vitals2 = vitals1.merge(hm_final, how=\"left\", left_on=[\"patientunitstayid\", \"observationoffset\"], right_on=[\"patientunitstayid\", \"offset\"])\n",
    "vitals2[[\"hypertonic saline\", \"mannitol\"]] = vitals2[[\"hypertonic saline\", \"mannitol\"]].fillna(0)"
   ]
  },
  {
   "cell_type": "code",
   "execution_count": 324,
   "id": "69bdaa18-989b-4062-8468-e5289b2577d5",
   "metadata": {},
   "outputs": [],
   "source": [
    "vitals2 = vitals2.drop([\"offset\", \"infusionoffset\", \"Unnamed: 0\"], axis=1)#.to_csv(\"model/data/eicu_vitals_treatments_hts_m.csv\", index=False)"
   ]
  },
  {
   "cell_type": "code",
   "execution_count": null,
   "id": "4f50a44a-612e-49b3-812d-8d87d8989149",
   "metadata": {},
   "outputs": [],
   "source": []
  },
  {
   "cell_type": "markdown",
   "id": "2924f5f6-36ed-4f99-a58b-cb3a5d8e4157",
   "metadata": {},
   "source": [
    "## Culmulative procedures"
   ]
  },
  {
   "cell_type": "code",
   "execution_count": 325,
   "id": "7414a611-d292-486c-b98d-fbeb4da42e00",
   "metadata": {},
   "outputs": [
    {
     "data": {
      "text/html": [
       "<div>\n",
       "<style scoped>\n",
       "    .dataframe tbody tr th:only-of-type {\n",
       "        vertical-align: middle;\n",
       "    }\n",
       "\n",
       "    .dataframe tbody tr th {\n",
       "        vertical-align: top;\n",
       "    }\n",
       "\n",
       "    .dataframe thead th {\n",
       "        text-align: right;\n",
       "    }\n",
       "</style>\n",
       "<table border=\"1\" class=\"dataframe\">\n",
       "  <thead>\n",
       "    <tr style=\"text-align: right;\">\n",
       "      <th></th>\n",
       "      <th>vitalperiodicid</th>\n",
       "      <th>patientunitstayid</th>\n",
       "      <th>observationoffset</th>\n",
       "      <th>temperature</th>\n",
       "      <th>sao2</th>\n",
       "      <th>heartrate</th>\n",
       "      <th>respiration</th>\n",
       "      <th>systemicsystolic</th>\n",
       "      <th>systemicdiastolic</th>\n",
       "      <th>systemicmean</th>\n",
       "      <th>...</th>\n",
       "      <th>Invasive BP - Invasive BP Systolic</th>\n",
       "      <th>Non-Invasive BP - Non-Invasive BP Diastolic</th>\n",
       "      <th>Non-Invasive BP - Non-Invasive BP Systolic</th>\n",
       "      <th>Intracranial operations</th>\n",
       "      <th>Lumbar Puncture</th>\n",
       "      <th>Mechanical Ventilation</th>\n",
       "      <th>Neurovascular Procedures</th>\n",
       "      <th>Shunting</th>\n",
       "      <th>hypertonic saline</th>\n",
       "      <th>mannitol</th>\n",
       "    </tr>\n",
       "  </thead>\n",
       "  <tbody>\n",
       "    <tr>\n",
       "      <th>0</th>\n",
       "      <td>39121950</td>\n",
       "      <td>143881</td>\n",
       "      <td>450</td>\n",
       "      <td>26.2</td>\n",
       "      <td>100.0</td>\n",
       "      <td>68.0</td>\n",
       "      <td>29.0</td>\n",
       "      <td>148.0</td>\n",
       "      <td>44.0</td>\n",
       "      <td>70.0</td>\n",
       "      <td>...</td>\n",
       "      <td>164.0</td>\n",
       "      <td>61.0</td>\n",
       "      <td>147.0</td>\n",
       "      <td>0.0</td>\n",
       "      <td>0.0</td>\n",
       "      <td>0.0</td>\n",
       "      <td>0.0</td>\n",
       "      <td>0.0</td>\n",
       "      <td>0.0</td>\n",
       "      <td>0.0</td>\n",
       "    </tr>\n",
       "    <tr>\n",
       "      <th>1</th>\n",
       "      <td>39121791</td>\n",
       "      <td>143881</td>\n",
       "      <td>455</td>\n",
       "      <td>26.2</td>\n",
       "      <td>100.0</td>\n",
       "      <td>66.0</td>\n",
       "      <td>28.0</td>\n",
       "      <td>146.0</td>\n",
       "      <td>44.0</td>\n",
       "      <td>70.0</td>\n",
       "      <td>...</td>\n",
       "      <td>164.0</td>\n",
       "      <td>61.0</td>\n",
       "      <td>147.0</td>\n",
       "      <td>0.0</td>\n",
       "      <td>0.0</td>\n",
       "      <td>0.0</td>\n",
       "      <td>0.0</td>\n",
       "      <td>0.0</td>\n",
       "      <td>0.0</td>\n",
       "      <td>0.0</td>\n",
       "    </tr>\n",
       "    <tr>\n",
       "      <th>2</th>\n",
       "      <td>39121631</td>\n",
       "      <td>143881</td>\n",
       "      <td>460</td>\n",
       "      <td>26.2</td>\n",
       "      <td>100.0</td>\n",
       "      <td>68.0</td>\n",
       "      <td>27.0</td>\n",
       "      <td>150.0</td>\n",
       "      <td>46.0</td>\n",
       "      <td>72.0</td>\n",
       "      <td>...</td>\n",
       "      <td>156.0</td>\n",
       "      <td>54.0</td>\n",
       "      <td>139.0</td>\n",
       "      <td>0.0</td>\n",
       "      <td>0.0</td>\n",
       "      <td>0.0</td>\n",
       "      <td>0.0</td>\n",
       "      <td>0.0</td>\n",
       "      <td>0.0</td>\n",
       "      <td>0.0</td>\n",
       "    </tr>\n",
       "    <tr>\n",
       "      <th>3</th>\n",
       "      <td>39121469</td>\n",
       "      <td>143881</td>\n",
       "      <td>465</td>\n",
       "      <td>26.2</td>\n",
       "      <td>99.0</td>\n",
       "      <td>64.0</td>\n",
       "      <td>18.0</td>\n",
       "      <td>146.0</td>\n",
       "      <td>44.0</td>\n",
       "      <td>70.0</td>\n",
       "      <td>...</td>\n",
       "      <td>156.0</td>\n",
       "      <td>54.0</td>\n",
       "      <td>139.0</td>\n",
       "      <td>0.0</td>\n",
       "      <td>0.0</td>\n",
       "      <td>0.0</td>\n",
       "      <td>0.0</td>\n",
       "      <td>0.0</td>\n",
       "      <td>0.0</td>\n",
       "      <td>0.0</td>\n",
       "    </tr>\n",
       "    <tr>\n",
       "      <th>4</th>\n",
       "      <td>39121308</td>\n",
       "      <td>143881</td>\n",
       "      <td>470</td>\n",
       "      <td>26.2</td>\n",
       "      <td>100.0</td>\n",
       "      <td>68.0</td>\n",
       "      <td>19.0</td>\n",
       "      <td>148.0</td>\n",
       "      <td>46.0</td>\n",
       "      <td>70.0</td>\n",
       "      <td>...</td>\n",
       "      <td>156.0</td>\n",
       "      <td>54.0</td>\n",
       "      <td>139.0</td>\n",
       "      <td>0.0</td>\n",
       "      <td>0.0</td>\n",
       "      <td>0.0</td>\n",
       "      <td>0.0</td>\n",
       "      <td>0.0</td>\n",
       "      <td>0.0</td>\n",
       "      <td>0.0</td>\n",
       "    </tr>\n",
       "  </tbody>\n",
       "</table>\n",
       "<p>5 rows × 23 columns</p>\n",
       "</div>"
      ],
      "text/plain": [
       "   vitalperiodicid  patientunitstayid  observationoffset  temperature   sao2  \\\n",
       "0         39121950             143881                450         26.2  100.0   \n",
       "1         39121791             143881                455         26.2  100.0   \n",
       "2         39121631             143881                460         26.2  100.0   \n",
       "3         39121469             143881                465         26.2   99.0   \n",
       "4         39121308             143881                470         26.2  100.0   \n",
       "\n",
       "   heartrate  respiration  systemicsystolic  systemicdiastolic  systemicmean  \\\n",
       "0       68.0         29.0             148.0               44.0          70.0   \n",
       "1       66.0         28.0             146.0               44.0          70.0   \n",
       "2       68.0         27.0             150.0               46.0          72.0   \n",
       "3       64.0         18.0             146.0               44.0          70.0   \n",
       "4       68.0         19.0             148.0               46.0          70.0   \n",
       "\n",
       "   ...  Invasive BP - Invasive BP Systolic  \\\n",
       "0  ...                               164.0   \n",
       "1  ...                               164.0   \n",
       "2  ...                               156.0   \n",
       "3  ...                               156.0   \n",
       "4  ...                               156.0   \n",
       "\n",
       "  Non-Invasive BP - Non-Invasive BP Diastolic  \\\n",
       "0                                        61.0   \n",
       "1                                        61.0   \n",
       "2                                        54.0   \n",
       "3                                        54.0   \n",
       "4                                        54.0   \n",
       "\n",
       "   Non-Invasive BP - Non-Invasive BP Systolic  Intracranial operations  \\\n",
       "0                                       147.0                      0.0   \n",
       "1                                       147.0                      0.0   \n",
       "2                                       139.0                      0.0   \n",
       "3                                       139.0                      0.0   \n",
       "4                                       139.0                      0.0   \n",
       "\n",
       "   Lumbar Puncture  Mechanical Ventilation  Neurovascular Procedures  \\\n",
       "0              0.0                     0.0                       0.0   \n",
       "1              0.0                     0.0                       0.0   \n",
       "2              0.0                     0.0                       0.0   \n",
       "3              0.0                     0.0                       0.0   \n",
       "4              0.0                     0.0                       0.0   \n",
       "\n",
       "   Shunting  hypertonic saline  mannitol  \n",
       "0       0.0                0.0       0.0  \n",
       "1       0.0                0.0       0.0  \n",
       "2       0.0                0.0       0.0  \n",
       "3       0.0                0.0       0.0  \n",
       "4       0.0                0.0       0.0  \n",
       "\n",
       "[5 rows x 23 columns]"
      ]
     },
     "execution_count": 325,
     "metadata": {},
     "output_type": "execute_result"
    }
   ],
   "source": [
    "vitals2.head()"
   ]
  },
  {
   "cell_type": "code",
   "execution_count": 330,
   "id": "40448c79-48f8-4af6-b68e-da4f7a5e66c5",
   "metadata": {},
   "outputs": [],
   "source": [
    "vitals2_cumsum_list = []\n",
    "for patient in list(vitals2[\"patientunitstayid\"].unique()):\n",
    "    patient_vt = vitals2[vitals2[\"patientunitstayid\"]==patient].copy()\n",
    "    for col in [\"Intracranial operations\",\"Lumbar Puncture\",\"Mechanical Ventilation\",\"Neurovascular Procedures\",\"Shunting\",\"hypertonic saline\",\"mannitol\"]:\n",
    "        patient_vt[\"Culmulative \" + col] = patient_vt[col].cumsum()\n",
    "    vitals2_cumsum_list.append(patient_vt)\n"
   ]
  },
  {
   "cell_type": "code",
   "execution_count": 331,
   "id": "47a8f2f8-25cc-4b9e-9424-9bc358a3aa05",
   "metadata": {},
   "outputs": [],
   "source": [
    "vitals2_cumsum = pd.concat(vitals2_cumsum_list, axis=0)"
   ]
  },
  {
   "cell_type": "code",
   "execution_count": 334,
   "id": "21875f75-4693-46f9-a15b-94a6a4807e95",
   "metadata": {},
   "outputs": [],
   "source": [
    "vitals2_cumsum.to_csv(\"model/data/eicu_vitals_treatments_drug_cumsum.csv\", index=False)"
   ]
  },
  {
   "cell_type": "markdown",
   "id": "83481687-e20d-48ab-b5d0-003d0b517bc9",
   "metadata": {},
   "source": [
    "## Labs"
   ]
  },
  {
   "cell_type": "code",
   "execution_count": 3,
   "id": "d0abaa81-2a42-4af5-ae5e-0e016aba40ab",
   "metadata": {},
   "outputs": [],
   "source": [
    "lab = pd.read_csv(\"./eicu-collaborative-research-database-2.0/lab.csv.gz\", compression=\"gzip\")"
   ]
  },
  {
   "cell_type": "code",
   "execution_count": 4,
   "id": "0fd9d6cc-66f4-45a2-92d7-5ec591d49e48",
   "metadata": {},
   "outputs": [],
   "source": [
    "# sorted(list(lab[\"labname\"].unique()))"
   ]
  },
  {
   "cell_type": "code",
   "execution_count": 5,
   "id": "36a3d2e7-7270-4713-9b87-dd991509a522",
   "metadata": {},
   "outputs": [],
   "source": [
    "sodium = lab[(lab[\"patientunitstayid\"].isin(patients)) & (lab[\"labname\"].isin([\"sodium\"]))].rename(columns={\"labresult\": \"sodium\"})\n",
    "glucose = lab[(lab[\"patientunitstayid\"].isin(patients)) & (lab[\"labname\"].isin([\"glucose\"]))].rename(columns={\"labresult\": \"glucose\"})"
   ]
  },
  {
   "cell_type": "code",
   "execution_count": 6,
   "id": "73c1e8ad-f032-477b-9e9e-375b84d488e1",
   "metadata": {},
   "outputs": [],
   "source": [
    "sod_glu = sodium[[\"patientunitstayid\", \"labresultoffset\", \"sodium\"]].merge(glucose[[\"patientunitstayid\", \"labresultoffset\", \"glucose\"]], how=\"outer\", on=[\"patientunitstayid\", \"labresultoffset\"])"
   ]
  },
  {
   "cell_type": "code",
   "execution_count": 7,
   "id": "494b2990-94ce-4fa3-ba95-baf2b109be6e",
   "metadata": {},
   "outputs": [],
   "source": [
    "sod_glu = sod_glu.sort_values([\"patientunitstayid\", \"labresultoffset\"])"
   ]
  },
  {
   "cell_type": "code",
   "execution_count": 8,
   "id": "81bd67f8-d9ab-4152-b6c7-e228c47ed0c1",
   "metadata": {},
   "outputs": [],
   "source": [
    "sglist = []\n",
    "for patient in patients:\n",
    "    sglist.append(sod_glu[sod_glu[\"patientunitstayid\"]==patient].fillna(method=\"ffill\"))\n",
    "    "
   ]
  },
  {
   "cell_type": "code",
   "execution_count": 9,
   "id": "94e63bfb-c370-4ddc-b625-d30e664edf76",
   "metadata": {},
   "outputs": [],
   "source": [
    "sg = pd.concat(sglist)"
   ]
  },
  {
   "cell_type": "code",
   "execution_count": 11,
   "id": "af74f550-3929-47fd-abcc-e7de2c1f160e",
   "metadata": {},
   "outputs": [
    {
     "data": {
      "text/plain": [
       "887"
      ]
     },
     "execution_count": 11,
     "metadata": {},
     "output_type": "execute_result"
    }
   ],
   "source": [
    "sg.patientunitstayid.nunique()"
   ]
  },
  {
   "cell_type": "code",
   "execution_count": 10,
   "id": "975414bb-22a5-42f6-bd8c-fc5ddf8f1bf9",
   "metadata": {},
   "outputs": [
    {
     "data": {
      "text/html": [
       "<div>\n",
       "<style scoped>\n",
       "    .dataframe tbody tr th:only-of-type {\n",
       "        vertical-align: middle;\n",
       "    }\n",
       "\n",
       "    .dataframe tbody tr th {\n",
       "        vertical-align: top;\n",
       "    }\n",
       "\n",
       "    .dataframe thead th {\n",
       "        text-align: right;\n",
       "    }\n",
       "</style>\n",
       "<table border=\"1\" class=\"dataframe\">\n",
       "  <thead>\n",
       "    <tr style=\"text-align: right;\">\n",
       "      <th></th>\n",
       "      <th>labid</th>\n",
       "      <th>patientunitstayid</th>\n",
       "      <th>labresultoffset</th>\n",
       "      <th>labtypeid</th>\n",
       "      <th>labname</th>\n",
       "      <th>labresult</th>\n",
       "      <th>labresulttext</th>\n",
       "      <th>labmeasurenamesystem</th>\n",
       "      <th>labmeasurenameinterface</th>\n",
       "      <th>labresultrevisedoffset</th>\n",
       "    </tr>\n",
       "  </thead>\n",
       "  <tbody>\n",
       "    <tr>\n",
       "      <th>61324</th>\n",
       "      <td>47294846</td>\n",
       "      <td>143881</td>\n",
       "      <td>-90</td>\n",
       "      <td>1</td>\n",
       "      <td>glucose</td>\n",
       "      <td>105.0</td>\n",
       "      <td>105</td>\n",
       "      <td>mg/dL</td>\n",
       "      <td>mg/dL</td>\n",
       "      <td>-60</td>\n",
       "    </tr>\n",
       "    <tr>\n",
       "      <th>61260</th>\n",
       "      <td>47294840</td>\n",
       "      <td>143881</td>\n",
       "      <td>-90</td>\n",
       "      <td>1</td>\n",
       "      <td>sodium</td>\n",
       "      <td>141.0</td>\n",
       "      <td>141</td>\n",
       "      <td>mmol/L</td>\n",
       "      <td>mmol/L</td>\n",
       "      <td>-60</td>\n",
       "    </tr>\n",
       "    <tr>\n",
       "      <th>61244</th>\n",
       "      <td>43248444</td>\n",
       "      <td>143881</td>\n",
       "      <td>497</td>\n",
       "      <td>1</td>\n",
       "      <td>glucose</td>\n",
       "      <td>148.0</td>\n",
       "      <td>148</td>\n",
       "      <td>mg/dL</td>\n",
       "      <td>mg/dL</td>\n",
       "      <td>519</td>\n",
       "    </tr>\n",
       "    <tr>\n",
       "      <th>61232</th>\n",
       "      <td>43248441</td>\n",
       "      <td>143881</td>\n",
       "      <td>497</td>\n",
       "      <td>1</td>\n",
       "      <td>sodium</td>\n",
       "      <td>138.0</td>\n",
       "      <td>138</td>\n",
       "      <td>mmol/L</td>\n",
       "      <td>mmol/L</td>\n",
       "      <td>519</td>\n",
       "    </tr>\n",
       "    <tr>\n",
       "      <th>61199</th>\n",
       "      <td>42805220</td>\n",
       "      <td>143881</td>\n",
       "      <td>718</td>\n",
       "      <td>1</td>\n",
       "      <td>sodium</td>\n",
       "      <td>141.0</td>\n",
       "      <td>141</td>\n",
       "      <td>mmol/L</td>\n",
       "      <td>mmol/L</td>\n",
       "      <td>745</td>\n",
       "    </tr>\n",
       "    <tr>\n",
       "      <th>...</th>\n",
       "      <td>...</td>\n",
       "      <td>...</td>\n",
       "      <td>...</td>\n",
       "      <td>...</td>\n",
       "      <td>...</td>\n",
       "      <td>...</td>\n",
       "      <td>...</td>\n",
       "      <td>...</td>\n",
       "      <td>...</td>\n",
       "      <td>...</td>\n",
       "    </tr>\n",
       "    <tr>\n",
       "      <th>39075347</th>\n",
       "      <td>823725690</td>\n",
       "      <td>3351831</td>\n",
       "      <td>13991</td>\n",
       "      <td>1</td>\n",
       "      <td>sodium</td>\n",
       "      <td>134.0</td>\n",
       "      <td>134</td>\n",
       "      <td>mmol/L</td>\n",
       "      <td>mmol/L</td>\n",
       "      <td>14068</td>\n",
       "    </tr>\n",
       "    <tr>\n",
       "      <th>39075434</th>\n",
       "      <td>823644234</td>\n",
       "      <td>3351831</td>\n",
       "      <td>17310</td>\n",
       "      <td>1</td>\n",
       "      <td>glucose</td>\n",
       "      <td>110.0</td>\n",
       "      <td>110</td>\n",
       "      <td>mg/dL</td>\n",
       "      <td>mg/dL</td>\n",
       "      <td>17343</td>\n",
       "    </tr>\n",
       "    <tr>\n",
       "      <th>39075478</th>\n",
       "      <td>824391783</td>\n",
       "      <td>3351831</td>\n",
       "      <td>17310</td>\n",
       "      <td>1</td>\n",
       "      <td>sodium</td>\n",
       "      <td>131.0</td>\n",
       "      <td>131</td>\n",
       "      <td>mmol/L</td>\n",
       "      <td>mmol/L</td>\n",
       "      <td>17343</td>\n",
       "    </tr>\n",
       "    <tr>\n",
       "      <th>39075479</th>\n",
       "      <td>822048101</td>\n",
       "      <td>3351831</td>\n",
       "      <td>18669</td>\n",
       "      <td>1</td>\n",
       "      <td>glucose</td>\n",
       "      <td>98.0</td>\n",
       "      <td>98</td>\n",
       "      <td>mg/dL</td>\n",
       "      <td>mg/dL</td>\n",
       "      <td>18714</td>\n",
       "    </tr>\n",
       "    <tr>\n",
       "      <th>39075465</th>\n",
       "      <td>822048095</td>\n",
       "      <td>3351831</td>\n",
       "      <td>18669</td>\n",
       "      <td>1</td>\n",
       "      <td>sodium</td>\n",
       "      <td>134.0</td>\n",
       "      <td>134</td>\n",
       "      <td>mmol/L</td>\n",
       "      <td>mmol/L</td>\n",
       "      <td>18714</td>\n",
       "    </tr>\n",
       "  </tbody>\n",
       "</table>\n",
       "<p>44213 rows × 10 columns</p>\n",
       "</div>"
      ],
      "text/plain": [
       "              labid  patientunitstayid  labresultoffset  labtypeid  labname  \\\n",
       "61324      47294846             143881              -90          1  glucose   \n",
       "61260      47294840             143881              -90          1   sodium   \n",
       "61244      43248444             143881              497          1  glucose   \n",
       "61232      43248441             143881              497          1   sodium   \n",
       "61199      42805220             143881              718          1   sodium   \n",
       "...             ...                ...              ...        ...      ...   \n",
       "39075347  823725690            3351831            13991          1   sodium   \n",
       "39075434  823644234            3351831            17310          1  glucose   \n",
       "39075478  824391783            3351831            17310          1   sodium   \n",
       "39075479  822048101            3351831            18669          1  glucose   \n",
       "39075465  822048095            3351831            18669          1   sodium   \n",
       "\n",
       "          labresult labresulttext labmeasurenamesystem  \\\n",
       "61324         105.0           105                mg/dL   \n",
       "61260         141.0           141               mmol/L   \n",
       "61244         148.0           148                mg/dL   \n",
       "61232         138.0           138               mmol/L   \n",
       "61199         141.0           141               mmol/L   \n",
       "...             ...           ...                  ...   \n",
       "39075347      134.0           134               mmol/L   \n",
       "39075434      110.0           110                mg/dL   \n",
       "39075478      131.0           131               mmol/L   \n",
       "39075479       98.0            98                mg/dL   \n",
       "39075465      134.0           134               mmol/L   \n",
       "\n",
       "         labmeasurenameinterface  labresultrevisedoffset  \n",
       "61324                      mg/dL                     -60  \n",
       "61260                     mmol/L                     -60  \n",
       "61244                      mg/dL                     519  \n",
       "61232                     mmol/L                     519  \n",
       "61199                     mmol/L                     745  \n",
       "...                          ...                     ...  \n",
       "39075347                  mmol/L                   14068  \n",
       "39075434                   mg/dL                   17343  \n",
       "39075478                  mmol/L                   17343  \n",
       "39075479                   mg/dL                   18714  \n",
       "39075465                  mmol/L                   18714  \n",
       "\n",
       "[44213 rows x 10 columns]"
      ]
     },
     "execution_count": 10,
     "metadata": {},
     "output_type": "execute_result"
    }
   ],
   "source": [
    "lab1.sort_values([\"patientunitstayid\", \"labresultoffset\", \"labname\"])"
   ]
  },
  {
   "cell_type": "code",
   "execution_count": 12,
   "id": "af642a1a-12ec-46b8-ba8b-ab6dbd2a8b98",
   "metadata": {},
   "outputs": [
    {
     "name": "stderr",
     "output_type": "stream",
     "text": [
      "c:\\users\\lenovo\\appdata\\local\\programs\\python\\python37\\lib\\site-packages\\IPython\\core\\interactiveshell.py:3173: DtypeWarning: Columns (11) have mixed types.Specify dtype option on import or set low_memory=False.\n",
      "  interactivity=interactivity, compiler=compiler, result=result)\n"
     ]
    }
   ],
   "source": [
    "vitals = pd.read_csv(\"model/data/eicu_vitals_final.csv\")"
   ]
  },
  {
   "cell_type": "code",
   "execution_count": null,
   "id": "89b41975-c219-4a43-b19b-e533094bf1cc",
   "metadata": {},
   "outputs": [],
   "source": [
    "vpatients = list(vitals.patientunitstayid.unique())\n"
   ]
  },
  {
   "cell_type": "code",
   "execution_count": null,
   "id": "ab7e2dd5-6a53-42d3-8cd9-b1258cf18699",
   "metadata": {},
   "outputs": [],
   "source": []
  },
  {
   "cell_type": "markdown",
   "id": "b3d28dd6-9c10-4436-a951-ca216032d384",
   "metadata": {},
   "source": [
    "## Procedures and Treatment"
   ]
  },
  {
   "cell_type": "code",
   "execution_count": 207,
   "id": "25a9731d-1dc4-4dba-9708-f6c23a2de5eb",
   "metadata": {},
   "outputs": [],
   "source": [
    "treatments = pd.read_csv(\"./eicu-collaborative-research-database-2.0/treatment.csv.gz\", compression=\"gzip\")"
   ]
  },
  {
   "cell_type": "code",
   "execution_count": 224,
   "id": "9b00a1c5-794c-4f81-a351-d9c9c1f1da1e",
   "metadata": {},
   "outputs": [],
   "source": [
    "treatment_types = [\n",
    "    [\n",
    "        \"neurologic|therapy for controlling cerebral perfusion pressure|intracranial/cerebral perfusion pressure monitoring|CSF drainage via ventriculostomy\",\n",
    "        \"neurologic|procedures / diagnostics|intracranial/cerebral perfusion pressure monitoring|ventriculostomy\",\n",
    "        \"neurologic|procedures / diagnostics|neurosurgery|ventricular shunt procedure\",\n",
    "        \"neurologic|procedures / diagnostics|neurosurgery|ventricular shunt procedure|ventricular-peritoneal\",\n",
    "        \"neurologic|procedures / diagnostics|neurosurgery|ventricular shunt procedure|lumbar-peritoneal\",\n",
    "        \"neurologic|procedures / diagnostics|neurosurgery|ventricular shunt procedure|ventricular-atrial\",\n",
    "\n",
    "    ], \n",
    "    [\n",
    "        \"neurologic|procedures / diagnostics|neurosurgery|therapeutic craniotomy|for hematoma\",\n",
    "        \"neurologic|ICH/ cerebral infarct|surgery|craniotomy for drainage of intracranial hematoma\",\n",
    "        \"neurologic|procedures / diagnostics|neurosurgery|drainage of hematoma-craniotomy\",\n",
    "        \"neurologic|procedures / diagnostics|neurosurgery|diagnostic craniotomy\",\n",
    "        \"neurologic|procedures / diagnostics|neurosurgery|hemicraniectomy\",\n",
    "        \"neurologic|ICH/ cerebral infarct|surgery|hemicraniectomy\",\n",
    "\n",
    "    ],\n",
    "    [\n",
    "        \"neurologic|procedures / diagnostics|lumbar puncture\"\n",
    "    ], \n",
    "    [\n",
    "        \"neurologic|procedures / diagnostics|angiogram|with coiling\",\n",
    "        \"neurologic|procedures / diagnostics|angiogram|with embolization\",\n",
    "        \"neurologic|ICH/ cerebral infarct|angiogram|with coiling\",\n",
    "        \"neurologic|procedures / diagnostics|angiogram|with infusion of vasodilator\",\n",
    "        \"neurologic|ICH/ cerebral infarct|angiogram|with embolization\",\n",
    "        \"neurologic|ICH/ cerebral infarct|angiogram|with infusion of vasodilator\",\n",
    "        \"neurologic|ICH/ cerebral infarct|angiogram|with cerebral angioplasty\",\n",
    "        \"neurologic|procedures / diagnostics|angiogram|with stenting\",\n",
    "\n",
    "    ], \n",
    "    [\n",
    "        \"pulmonary|ventilation and oxygenation|mechanical ventilation\"\n",
    "    ]\n",
    "]\n",
    "\n",
    "types = [\n",
    "    \"Shunting\", \"Intracranial operations\", \"Lumbar Puncture\", \"Neurovascular Procedures\", \"Mechanical Ventilation\"\n",
    "]\n",
    "\n",
    "\n",
    "def label_treatment(row):\n",
    "    for i, group in enumerate(treatment_types):\n",
    "        if str(row[\"treatmentstring\"]) in group:\n",
    "            return types[i]\n",
    "    return -1\n",
    "    "
   ]
  },
  {
   "cell_type": "code",
   "execution_count": 225,
   "id": "3b58aed9-5c51-499d-a49c-a429222037aa",
   "metadata": {},
   "outputs": [],
   "source": [
    "treatments[\"treatmenttype\"] = treatments.apply(label_treatment, axis=1)"
   ]
  },
  {
   "cell_type": "code",
   "execution_count": 226,
   "id": "bb2b50f4-b3a7-45d8-850e-62b29496ea46",
   "metadata": {},
   "outputs": [
    {
     "data": {
      "text/plain": [
       "-1                          3558345\n",
       "Mechanical Ventilation       117481\n",
       "Shunting                       5170\n",
       "Neurovascular Procedures       3000\n",
       "Intracranial operations        2780\n",
       "Lumbar Puncture                1969\n",
       "Name: treatmenttype, dtype: int64"
      ]
     },
     "execution_count": 226,
     "metadata": {},
     "output_type": "execute_result"
    }
   ],
   "source": [
    "treatments[\"treatmenttype\"].value_counts()"
   ]
  },
  {
   "cell_type": "code",
   "execution_count": 227,
   "id": "c4a3e66f-d332-492d-89c6-8dcdf052dd4d",
   "metadata": {},
   "outputs": [],
   "source": [
    "treatments_out = treatments.loc[(treatments[\"patientunitstayid\"].isin(patients)) & (treatments[\"treatmenttype\"]!=-1)]"
   ]
  },
  {
   "cell_type": "code",
   "execution_count": 228,
   "id": "32a334ee-31f6-4d72-8cdc-70e90ac3b04a",
   "metadata": {},
   "outputs": [
    {
     "data": {
      "text/plain": [
       "709"
      ]
     },
     "execution_count": 228,
     "metadata": {},
     "output_type": "execute_result"
    }
   ],
   "source": [
    "len(treatments_out[\"patientunitstayid\"].unique())"
   ]
  },
  {
   "cell_type": "code",
   "execution_count": 229,
   "id": "1a241443-d455-4f08-847b-ee90a48853f3",
   "metadata": {},
   "outputs": [],
   "source": [
    "treatments_out = treatments_out.sort_values(by=['patientunitstayid', \"treatmentoffset\", \"treatmenttype\"])"
   ]
  },
  {
   "cell_type": "code",
   "execution_count": 230,
   "id": "96499874-2cdb-4fd5-86c6-7a50e643fbbc",
   "metadata": {},
   "outputs": [],
   "source": [
    "# treatments_csv = []\n",
    "# for patient in patients:\n",
    "#     diags = [patient] + [0 for _ in range(len(types))]\n",
    "#     for i, diag_type in enumerate(types):\n",
    "#         if patient in diag_type:\n",
    "#             diags[i+1] = 1\n",
    "#     patient_diags.append(diags)\n",
    "\n",
    "# patient_diags = pd.DataFrame(patient_diags, columns=[\"patientunitstayid\"] +diagnoses)\n",
    "# patient_diags.to_csv(\"model/data/eicu_patient_diagnoses.csv\", index=False)"
   ]
  },
  {
   "cell_type": "code",
   "execution_count": 234,
   "id": "cafc2cfe-c0a0-4e45-ab00-17af60678477",
   "metadata": {},
   "outputs": [],
   "source": [
    "onehot = pd.get_dummies(treatments_out[\"treatmenttype\"])\n",
    "onehot_treatments = treatments_out[[\"patientunitstayid\", \"treatmentoffset\"]].join(onehot)"
   ]
  },
  {
   "cell_type": "code",
   "execution_count": 236,
   "id": "62e82263-bd8b-4c4c-bdff-5ee017060afd",
   "metadata": {},
   "outputs": [],
   "source": [
    "onehot_treatments.to_csv(\"eicu_treatment_types.csv\", index=False)"
   ]
  },
  {
   "cell_type": "code",
   "execution_count": 238,
   "id": "d6dd012f-d63c-4afc-b101-55921ba40889",
   "metadata": {},
   "outputs": [
    {
     "name": "stderr",
     "output_type": "stream",
     "text": [
      "c:\\users\\lenovo\\appdata\\local\\programs\\python\\python37\\lib\\site-packages\\IPython\\core\\interactiveshell.py:3173: DtypeWarning: Columns (12) have mixed types.Specify dtype option on import or set low_memory=False.\n",
      "  interactivity=interactivity, compiler=compiler, result=result)\n"
     ]
    }
   ],
   "source": [
    "vitals = pd.read_csv(\"model/data/eicu_all_vitals.csv\")"
   ]
  },
  {
   "cell_type": "code",
   "execution_count": 311,
   "id": "d9eae3c9-f627-461d-b42c-d754e7bf31c6",
   "metadata": {},
   "outputs": [],
   "source": [
    "def interpolate_offset(row):\n",
    "    offsets = vitals[vitals[\"patientunitstayid\"]==row[\"patientunitstayid\"]][\"observationoffset\"].astype(int).to_list()\n",
    "    offset = -10000\n",
    "    min_diff = 120\n",
    "    for po in offsets:\n",
    "        if abs(po - row[\"treatmentoffset\"]) < min_diff:\n",
    "            min_diff = abs(po - offset)\n",
    "            offset = po\n",
    "    return offset"
   ]
  },
  {
   "cell_type": "code",
   "execution_count": 312,
   "id": "c6dd84be-dab2-4c64-8c44-bb752ef5df43",
   "metadata": {},
   "outputs": [],
   "source": [
    "# vitals_patients = list(vitals[\"patientunitstayid\"].unique())\n",
    "onehot_treatments[\"offset\"] = onehot_treatments.apply(interpolate_offset, axis=1)"
   ]
  },
  {
   "cell_type": "code",
   "execution_count": 313,
   "id": "a667c316-0a0d-4192-8ed0-de4b6f715452",
   "metadata": {},
   "outputs": [],
   "source": [
    "vitals1 = vitals.merge(onehot_treatments, how=\"left\", left_on=[\"patientunitstayid\", \"observationoffset\"], right_on=[\"patientunitstayid\", \"offset\"])"
   ]
  },
  {
   "cell_type": "code",
   "execution_count": 314,
   "id": "059ddf9c-cbf3-4ab2-b5a1-fdc9825e8ee7",
   "metadata": {},
   "outputs": [],
   "source": [
    "vitals1[types] = vitals1[types].fillna(0)"
   ]
  },
  {
   "cell_type": "code",
   "execution_count": 317,
   "id": "58902ebb-85e1-4886-adc3-9120b4b00fe9",
   "metadata": {},
   "outputs": [],
   "source": [
    "vitals1.drop([\"treatmentoffset\", \"offset\"], axis=1, inplace=True)"
   ]
  },
  {
   "cell_type": "code",
   "execution_count": 258,
   "id": "0411cff4-290c-4e36-aeb8-87a0db76af09",
   "metadata": {},
   "outputs": [],
   "source": [
    "vitals1.drop(\"treatmentoffset\", axis=1).to_csv(\"model/data/eicu_vitals_treatments.csv\", index=False)"
   ]
  },
  {
   "cell_type": "code",
   "execution_count": 316,
   "id": "c51f8e39-5eb0-4093-9b41-c561f46d96c8",
   "metadata": {},
   "outputs": [
    {
     "data": {
      "text/plain": [
       "Shunting                    3152.0\n",
       "Intracranial operations      480.0\n",
       "Lumbar Puncture                5.0\n",
       "Neurovascular Procedures    1010.0\n",
       "Mechanical Ventilation      2897.0\n",
       "dtype: float64"
      ]
     },
     "execution_count": 316,
     "metadata": {},
     "output_type": "execute_result"
    }
   ],
   "source": [
    "vitals1[types].sum()"
   ]
  },
  {
   "cell_type": "code",
   "execution_count": null,
   "id": "d5adff3c-f050-4d4c-994e-c7ed794d1332",
   "metadata": {},
   "outputs": [],
   "source": []
  }
 ],
 "metadata": {
  "kernelspec": {
   "display_name": "Python 3 (ipykernel)",
   "language": "python",
   "name": "python3"
  },
  "language_info": {
   "codemirror_mode": {
    "name": "ipython",
    "version": 3
   },
   "file_extension": ".py",
   "mimetype": "text/x-python",
   "name": "python",
   "nbconvert_exporter": "python",
   "pygments_lexer": "ipython3",
   "version": "3.7.0"
  }
 },
 "nbformat": 4,
 "nbformat_minor": 5
}
