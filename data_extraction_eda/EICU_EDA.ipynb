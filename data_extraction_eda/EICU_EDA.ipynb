{
 "cells": [
  {
   "cell_type": "markdown",
   "id": "55eb60e3-bce3-4d08-8c25-31df0242ff35",
   "metadata": {},
   "source": [
    "# EICU TBI data extraction & exploration"
   ]
  },
  {
   "cell_type": "code",
   "execution_count": 1,
   "id": "b3bdb245-149d-4878-bee6-d557b9c39663",
   "metadata": {},
   "outputs": [],
   "source": [
    "import pandas as pd\n",
    "import seaborn as sns\n",
    "import matplotlib.pyplot as plt\n",
    "import numpy as np\n",
    "sns.set_theme(style=\"darkgrid\")"
   ]
  },
  {
   "cell_type": "markdown",
   "id": "a8fedfaa-af72-4cac-ae1e-8a732a230f54",
   "metadata": {},
   "source": [
    "## TBI patients (>= 18 yrs) \n",
    "\n",
    "#### ICDs:\n",
    "ICD10CM: S02*, S04*, S06*, S07*, S09*, T02, T04, T06\n",
    "\n",
    "ICD9CM: 800*, 801*, 803*, 804*, 850.1 – 850.5, 850.9, 851*, 852*, 853*, 854*, 959.01\n",
    "\n",
    "translates to regex: r\"^(S0[24679]|T0[246]|80[0-4]|850[1-59]|85[1-4]|95901$)\""
   ]
  },
  {
   "cell_type": "code",
   "execution_count": 3,
   "id": "06e63a69-d5e8-40ab-b7c6-c5e1531a880b",
   "metadata": {},
   "outputs": [],
   "source": [
    "diag = pd.read_csv(\"./eicu-collaborative-research-database-2.0/diagnosis.csv.gz\", compression=\"gzip\")\n",
    "drugs = pd.read_csv(\"./eicu-collaborative-research-database-2.0/infusionDrug.csv.gz\", compression=\"gzip\")\n",
    "icd_codes = r\"^(S0[24679]|T0[246]|80[0-4]|850[1-59]|85[1-4]|95901$)\""
   ]
  },
  {
   "cell_type": "code",
   "execution_count": 4,
   "id": "cbba1797-488d-47f4-a71f-6ad2275ebfa2",
   "metadata": {},
   "outputs": [
    {
     "data": {
      "text/html": [
       "<div>\n",
       "<style scoped>\n",
       "    .dataframe tbody tr th:only-of-type {\n",
       "        vertical-align: middle;\n",
       "    }\n",
       "\n",
       "    .dataframe tbody tr th {\n",
       "        vertical-align: top;\n",
       "    }\n",
       "\n",
       "    .dataframe thead th {\n",
       "        text-align: right;\n",
       "    }\n",
       "</style>\n",
       "<table border=\"1\" class=\"dataframe\">\n",
       "  <thead>\n",
       "    <tr style=\"text-align: right;\">\n",
       "      <th></th>\n",
       "      <th>diagnosisid</th>\n",
       "      <th>patientunitstayid</th>\n",
       "      <th>activeupondischarge</th>\n",
       "      <th>diagnosisoffset</th>\n",
       "      <th>diagnosisstring</th>\n",
       "      <th>icd9code</th>\n",
       "      <th>diagnosispriority</th>\n",
       "    </tr>\n",
       "  </thead>\n",
       "  <tbody>\n",
       "    <tr>\n",
       "      <th>0</th>\n",
       "      <td>4222318</td>\n",
       "      <td>141168</td>\n",
       "      <td>False</td>\n",
       "      <td>72</td>\n",
       "      <td>cardiovascular|chest pain / ASHD|coronary arte...</td>\n",
       "      <td>414.00, I25.10</td>\n",
       "      <td>Other</td>\n",
       "    </tr>\n",
       "    <tr>\n",
       "      <th>1</th>\n",
       "      <td>3370568</td>\n",
       "      <td>141168</td>\n",
       "      <td>True</td>\n",
       "      <td>118</td>\n",
       "      <td>cardiovascular|ventricular disorders|cardiomyo...</td>\n",
       "      <td>NaN</td>\n",
       "      <td>Other</td>\n",
       "    </tr>\n",
       "    <tr>\n",
       "      <th>2</th>\n",
       "      <td>4160941</td>\n",
       "      <td>141168</td>\n",
       "      <td>False</td>\n",
       "      <td>72</td>\n",
       "      <td>pulmonary|disorders of the airways|COPD</td>\n",
       "      <td>491.20, J44.9</td>\n",
       "      <td>Other</td>\n",
       "    </tr>\n",
       "    <tr>\n",
       "      <th>3</th>\n",
       "      <td>4103261</td>\n",
       "      <td>141168</td>\n",
       "      <td>True</td>\n",
       "      <td>118</td>\n",
       "      <td>pulmonary|disorders of the airways|COPD</td>\n",
       "      <td>491.20, J44.9</td>\n",
       "      <td>Other</td>\n",
       "    </tr>\n",
       "    <tr>\n",
       "      <th>4</th>\n",
       "      <td>3545241</td>\n",
       "      <td>141168</td>\n",
       "      <td>True</td>\n",
       "      <td>118</td>\n",
       "      <td>cardiovascular|ventricular disorders|congestiv...</td>\n",
       "      <td>428.0, I50.9</td>\n",
       "      <td>Other</td>\n",
       "    </tr>\n",
       "  </tbody>\n",
       "</table>\n",
       "</div>"
      ],
      "text/plain": [
       "   diagnosisid  patientunitstayid  activeupondischarge  diagnosisoffset  \\\n",
       "0      4222318             141168                False               72   \n",
       "1      3370568             141168                 True              118   \n",
       "2      4160941             141168                False               72   \n",
       "3      4103261             141168                 True              118   \n",
       "4      3545241             141168                 True              118   \n",
       "\n",
       "                                     diagnosisstring        icd9code  \\\n",
       "0  cardiovascular|chest pain / ASHD|coronary arte...  414.00, I25.10   \n",
       "1  cardiovascular|ventricular disorders|cardiomyo...             NaN   \n",
       "2            pulmonary|disorders of the airways|COPD   491.20, J44.9   \n",
       "3            pulmonary|disorders of the airways|COPD   491.20, J44.9   \n",
       "4  cardiovascular|ventricular disorders|congestiv...    428.0, I50.9   \n",
       "\n",
       "  diagnosispriority  \n",
       "0             Other  \n",
       "1             Other  \n",
       "2             Other  \n",
       "3             Other  \n",
       "4             Other  "
      ]
     },
     "execution_count": 4,
     "metadata": {},
     "output_type": "execute_result"
    }
   ],
   "source": [
    "diag.head()"
   ]
  },
  {
   "cell_type": "code",
   "execution_count": 5,
   "id": "c18b1626-6ce9-440b-8a50-ab438441777f",
   "metadata": {},
   "outputs": [],
   "source": [
    "diag = diag.loc[diag['icd9code'].str.match(r\"^(S0[24679]|T0[246]|80[0-4]|850[1-59]|85[1-4]|95901$)\") == True]\n",
    "diagnoses_counts = diag.value_counts([\"icd9code\"]).to_frame().reset_index()"
   ]
  },
  {
   "cell_type": "code",
   "execution_count": 6,
   "id": "1f255589-ddf6-486f-81ac-66db01a80273",
   "metadata": {},
   "outputs": [
    {
     "name": "stdout",
     "output_type": "stream",
     "text": [
      "Among TBI diagnoses:\n",
      "--------------------\n",
      "Number of diagnoses: 32077\n",
      "Unique Patient stays: 5005\n",
      "Top 10 diagnoses:\n"
     ]
    },
    {
     "data": {
      "text/html": [
       "<div>\n",
       "<style scoped>\n",
       "    .dataframe tbody tr th:only-of-type {\n",
       "        vertical-align: middle;\n",
       "    }\n",
       "\n",
       "    .dataframe tbody tr th {\n",
       "        vertical-align: top;\n",
       "    }\n",
       "\n",
       "    .dataframe thead th {\n",
       "        text-align: right;\n",
       "    }\n",
       "</style>\n",
       "<table border=\"1\" class=\"dataframe\">\n",
       "  <thead>\n",
       "    <tr style=\"text-align: right;\">\n",
       "      <th></th>\n",
       "      <th>icd9code</th>\n",
       "      <th>0</th>\n",
       "    </tr>\n",
       "  </thead>\n",
       "  <tbody>\n",
       "    <tr>\n",
       "      <th>0</th>\n",
       "      <td>852.20, S06.5</td>\n",
       "      <td>7781</td>\n",
       "    </tr>\n",
       "    <tr>\n",
       "      <th>1</th>\n",
       "      <td>852.00, S06.6</td>\n",
       "      <td>6427</td>\n",
       "    </tr>\n",
       "    <tr>\n",
       "      <th>2</th>\n",
       "      <td>851.80, S06.9</td>\n",
       "      <td>2991</td>\n",
       "    </tr>\n",
       "    <tr>\n",
       "      <th>3</th>\n",
       "      <td>854.00, S06.9</td>\n",
       "      <td>2297</td>\n",
       "    </tr>\n",
       "    <tr>\n",
       "      <th>4</th>\n",
       "      <td>854.06, S06.9</td>\n",
       "      <td>1353</td>\n",
       "    </tr>\n",
       "    <tr>\n",
       "      <th>5</th>\n",
       "      <td>851.00, S06.9</td>\n",
       "      <td>1339</td>\n",
       "    </tr>\n",
       "    <tr>\n",
       "      <th>6</th>\n",
       "      <td>853.00, S06.9</td>\n",
       "      <td>1015</td>\n",
       "    </tr>\n",
       "    <tr>\n",
       "      <th>7</th>\n",
       "      <td>802.8</td>\n",
       "      <td>925</td>\n",
       "    </tr>\n",
       "    <tr>\n",
       "      <th>8</th>\n",
       "      <td>854.02, S06.9</td>\n",
       "      <td>863</td>\n",
       "    </tr>\n",
       "    <tr>\n",
       "      <th>9</th>\n",
       "      <td>802.4</td>\n",
       "      <td>820</td>\n",
       "    </tr>\n",
       "  </tbody>\n",
       "</table>\n",
       "</div>"
      ],
      "text/plain": [
       "        icd9code     0\n",
       "0  852.20, S06.5  7781\n",
       "1  852.00, S06.6  6427\n",
       "2  851.80, S06.9  2991\n",
       "3  854.00, S06.9  2297\n",
       "4  854.06, S06.9  1353\n",
       "5  851.00, S06.9  1339\n",
       "6  853.00, S06.9  1015\n",
       "7          802.8   925\n",
       "8  854.02, S06.9   863\n",
       "9          802.4   820"
      ]
     },
     "execution_count": 6,
     "metadata": {},
     "output_type": "execute_result"
    }
   ],
   "source": [
    "print(\"Among TBI diagnoses:\")\n",
    "print(\"--------------------\")\n",
    "print(f\"Number of diagnoses: {len(diag)}\")\n",
    "print(f\"Unique Patient stays: {diag['patientunitstayid'].nunique()}\")\n",
    "print(\"Top 10 diagnoses:\")\n",
    "pd.set_option('display.max_colwidth', 100)\n",
    "diagnoses_counts.head(10)"
   ]
  },
  {
   "cell_type": "code",
   "execution_count": 6,
   "id": "57994bf5-95b8-4a60-87dd-a617e7b0428e",
   "metadata": {},
   "outputs": [
    {
     "data": {
      "image/png": "[encoded data removed]",
      "text/plain": [
       "<Figure size 1440x432 with 1 Axes>"
      ]
     },
     "metadata": {
      "needs_background": "light"
     },
     "output_type": "display_data"
    }
   ],
   "source": [
    "plt.figure(figsize=(20,6))\n",
    "plt.title(\"Count of common diagnosis (>=30)\", fontsize=15)\n",
    "ax = sns.barplot(x=\"icd9code\", y=0, data=diagnoses_counts[diagnoses_counts[0]>30], palette=\"Blues_d\")\n",
    "plt.ylabel(\"Count\")\n",
    "plt.xticks(rotation=45, ha='right')\n",
    "plt.show()"
   ]
  },
  {
   "cell_type": "code",
   "execution_count": 7,
   "id": "112a8943-637d-4875-8361-c855ee74827e",
   "metadata": {},
   "outputs": [],
   "source": [
    "# def find_ids(row):\n",
    "#     kws = [\"mannitol\", \"saline\", \"nacl\"]\n",
    "#     name = str(row[\"drugname\"]).lower()\n",
    "#     for kw in kws:\n",
    "#         if kw in name:\n",
    "#             ms.add(row[\"drugname\"])\n",
    "# ms = {}\n",
    "# drugs.apply(find_ids, axis=1)"
   ]
  },
  {
   "cell_type": "code",
   "execution_count": 6,
   "id": "77f6306a-93ea-46a2-9466-a772e142d56c",
   "metadata": {},
   "outputs": [],
   "source": [
    "diag_drugs = pd.merge(diag, drugs, on=\"patientunitstayid\")"
   ]
  },
  {
   "cell_type": "code",
   "execution_count": 7,
   "id": "0743680c-000c-4d07-8e5c-dcd35cf7193a",
   "metadata": {},
   "outputs": [],
   "source": [
    "# diag_drugs.loc[diag_drugs[\"drugname\"]]"
   ]
  },
  {
   "cell_type": "code",
   "execution_count": 8,
   "id": "21e372f1-0082-4000-9aee-27b4a24fb379",
   "metadata": {
    "tags": []
   },
   "outputs": [],
   "source": [
    "sal = [\n",
    "    ' 3% NACL (ml/hr)',\n",
    " '3 % NaCl (ml/hr)',\n",
    " '3 % SALINE (ml/hr)',\n",
    " '3 % saline (ml/hr)',\n",
    " '3 %NaCl (ml/hr)',\n",
    " '3 NACL (ml/hr)',\n",
    " '3 nacl (ml/hr)',\n",
    " '3%  SALINE (ml/hr)',\n",
    " '3% HYPERTONIC SALINE (ml/hr)',\n",
    " '3% Hypertonic NaCl (ml/hr)',\n",
    " '3% Hypertonic Saline',\n",
    " '3% Hypertonic Saline (ml/hr)',\n",
    " '3% NACL (ml/hr)',\n",
    " '3% NORMAL SALINE (ml/hr)',\n",
    " '3% NaCL  (ml/hr)',\n",
    " '3% NaCL (ml/hr)',\n",
    " '3% NaCl (ml/hr)',\n",
    " '3% Nacl (ml/hr)',\n",
    " '3% Normal Saline (ml/hr)',\n",
    " '3% SALINE (ml/hr)',\n",
    " '3% Saline (ml/hr)',\n",
    " '3% hypertonic saline  (ml/hr)',\n",
    " '3% hypertonic saline (ml/hr)',\n",
    " '3% nacl (ml/hr)',\n",
    " '3% normal saline (ml/hr)',\n",
    " '3% saline',\n",
    " '3% saline (ml/hr)',\n",
    " '3%NACL (ml/hr)',\n",
    " '3%NaCL (ml/hr)',\n",
    " '3%NaCl (ml/hr)',\n",
    " '3%Nacl (ml/hr)',\n",
    " '3%hypertonic saline (ml/hr)',\n",
    "'Hypertonic 3% Saline (ml/hr)',\n",
    " 'Hypertonic 3% saline (ml/hr)',\n",
    " 'Hypertonic Saline (ml/hr)',\n",
    " 'Hypertonic Saline 3% (ml/hr)',\n",
    " 'Hypertonic saline (ml/hr)',\n",
    "'NaCl 3% (ml/hr)',\n",
    " 'NaCl 3% Hypertonic (ml/hr)',\n",
    "'hypertonic saline (ml/hr)',\n",
    "]\n",
    "\n",
    "sal_d = [ '23.4% NaCl (ml/hr)',\n",
    " '23.4% nacl (ml/hr)',]\n",
    "\n",
    "man = [\n",
    "    'Mannitol (ml/hr)',\n",
    " 'Mannitol 20%',\n",
    " 'Mannitol 20% (ml/hr)',\n",
    " 'Mannitol IVF Infused (ml/hr)',\n",
    " 'mannitol (ml/hr)',\n",
    "]\n",
    "\n",
    "man_d = [\n",
    "     'Mannitol gtt(100gm/500mL) 100 g Dextrose 5% 500 ml (Unknown)',\n",
    " 'Mannitol gtt(100gm/500mL) 50 g Dextrose 5% 250 ml (Unknown)',\n",
    " 'Mannitol gtt(100gm/500mL) 50 g Dextrose 5% 500 ml (Unknown)',\n",
    " 'Mannitol gtt(25gms/500mL) 25 g Dextrose 5% 500 ml (Unknown)',\n",
    "]"
   ]
  },
  {
   "cell_type": "code",
   "execution_count": 9,
   "id": "f24148b6-6fb0-4f8d-82a7-98b36e5ca11c",
   "metadata": {},
   "outputs": [],
   "source": [
    "def label_drug(row):\n",
    "    if str(row[\"drugname\"]) in man:\n",
    "        return \"mannitol\"\n",
    "    elif str(row[\"drugname\"]) in man_d:\n",
    "        return \"mannitol + dextrose\"\n",
    "    elif str(row[\"drugname\"]) in sal:\n",
    "        return \"hypertonic saline\"\n",
    "    elif str(row[\"drugname\"]) in sal_d:\n",
    "        return \"23.4p hypertonic saline\"\n",
    "    else:\n",
    "        return \"others\"\n",
    "\n",
    "diag_drugs[\"ms\"] = diag_drugs.apply(label_drug, axis=1)"
   ]
  },
  {
   "cell_type": "code",
   "execution_count": 10,
   "id": "9d185ab0-8ca5-4601-81c8-74fe3c4ddd66",
   "metadata": {},
   "outputs": [],
   "source": [
    "diag_drugs1 = diag_drugs[diag_drugs[\"ms\"]!=\"others\"]"
   ]
  },
  {
   "cell_type": "code",
   "execution_count": 11,
   "id": "bd3bf5be-7f37-4ef0-96b2-4bfc0cc91432",
   "metadata": {},
   "outputs": [
    {
     "data": {
      "text/plain": [
       "1733"
      ]
     },
     "execution_count": 11,
     "metadata": {},
     "output_type": "execute_result"
    }
   ],
   "source": [
    "diag_drugs['patientunitstayid'].nunique()"
   ]
  },
  {
   "cell_type": "code",
   "execution_count": 14,
   "id": "42dcead1-cc66-40c0-aee8-27e272567bcf",
   "metadata": {},
   "outputs": [
    {
     "data": {
      "text/html": [
       "<div>\n",
       "<style scoped>\n",
       "    .dataframe tbody tr th:only-of-type {\n",
       "        vertical-align: middle;\n",
       "    }\n",
       "\n",
       "    .dataframe tbody tr th {\n",
       "        vertical-align: top;\n",
       "    }\n",
       "\n",
       "    .dataframe thead th {\n",
       "        text-align: right;\n",
       "    }\n",
       "</style>\n",
       "<table border=\"1\" class=\"dataframe\">\n",
       "  <thead>\n",
       "    <tr style=\"text-align: right;\">\n",
       "      <th></th>\n",
       "      <th>diagnosisid</th>\n",
       "      <th>patientunitstayid</th>\n",
       "      <th>activeupondischarge</th>\n",
       "      <th>diagnosisoffset</th>\n",
       "      <th>diagnosisstring</th>\n",
       "      <th>icd9code</th>\n",
       "      <th>diagnosispriority</th>\n",
       "      <th>infusiondrugid</th>\n",
       "      <th>infusionoffset</th>\n",
       "      <th>drugname</th>\n",
       "      <th>drugrate</th>\n",
       "      <th>infusionrate</th>\n",
       "      <th>drugamount</th>\n",
       "      <th>volumeoffluid</th>\n",
       "      <th>patientweight</th>\n",
       "      <th>ms</th>\n",
       "    </tr>\n",
       "  </thead>\n",
       "  <tbody>\n",
       "    <tr>\n",
       "      <th>14411</th>\n",
       "      <td>4875592</td>\n",
       "      <td>306989</td>\n",
       "      <td>False</td>\n",
       "      <td>432</td>\n",
       "      <td>burns/trauma|trauma - CNS|intracranial injury|with loss of consciousness of unknown duration</td>\n",
       "      <td>854.06, S06.2</td>\n",
       "      <td>Major</td>\n",
       "      <td>1990086</td>\n",
       "      <td>2405</td>\n",
       "      <td>NaCl 3% (ml/hr)</td>\n",
       "      <td>0</td>\n",
       "      <td>0.0</td>\n",
       "      <td>NaN</td>\n",
       "      <td>NaN</td>\n",
       "      <td>NaN</td>\n",
       "      <td>3p hypertonic saline</td>\n",
       "    </tr>\n",
       "    <tr>\n",
       "      <th>14414</th>\n",
       "      <td>4875592</td>\n",
       "      <td>306989</td>\n",
       "      <td>False</td>\n",
       "      <td>432</td>\n",
       "      <td>burns/trauma|trauma - CNS|intracranial injury|with loss of consciousness of unknown duration</td>\n",
       "      <td>854.06, S06.2</td>\n",
       "      <td>Major</td>\n",
       "      <td>1965137</td>\n",
       "      <td>1625</td>\n",
       "      <td>NaCl 3% (ml/hr)</td>\n",
       "      <td>30</td>\n",
       "      <td>30.0</td>\n",
       "      <td>NaN</td>\n",
       "      <td>NaN</td>\n",
       "      <td>NaN</td>\n",
       "      <td>3p hypertonic saline</td>\n",
       "    </tr>\n",
       "    <tr>\n",
       "      <th>14415</th>\n",
       "      <td>4875592</td>\n",
       "      <td>306989</td>\n",
       "      <td>False</td>\n",
       "      <td>432</td>\n",
       "      <td>burns/trauma|trauma - CNS|intracranial injury|with loss of consciousness of unknown duration</td>\n",
       "      <td>854.06, S06.2</td>\n",
       "      <td>Major</td>\n",
       "      <td>1953244</td>\n",
       "      <td>1865</td>\n",
       "      <td>NaCl 3% (ml/hr)</td>\n",
       "      <td>30</td>\n",
       "      <td>30.0</td>\n",
       "      <td>NaN</td>\n",
       "      <td>NaN</td>\n",
       "      <td>NaN</td>\n",
       "      <td>3p hypertonic saline</td>\n",
       "    </tr>\n",
       "    <tr>\n",
       "      <th>14416</th>\n",
       "      <td>4875592</td>\n",
       "      <td>306989</td>\n",
       "      <td>False</td>\n",
       "      <td>432</td>\n",
       "      <td>burns/trauma|trauma - CNS|intracranial injury|with loss of consciousness of unknown duration</td>\n",
       "      <td>854.06, S06.2</td>\n",
       "      <td>Major</td>\n",
       "      <td>1950727</td>\n",
       "      <td>2165</td>\n",
       "      <td>NaCl 3% (ml/hr)</td>\n",
       "      <td>30</td>\n",
       "      <td>30.0</td>\n",
       "      <td>NaN</td>\n",
       "      <td>NaN</td>\n",
       "      <td>NaN</td>\n",
       "      <td>3p hypertonic saline</td>\n",
       "    </tr>\n",
       "    <tr>\n",
       "      <th>14417</th>\n",
       "      <td>4875592</td>\n",
       "      <td>306989</td>\n",
       "      <td>False</td>\n",
       "      <td>432</td>\n",
       "      <td>burns/trauma|trauma - CNS|intracranial injury|with loss of consciousness of unknown duration</td>\n",
       "      <td>854.06, S06.2</td>\n",
       "      <td>Major</td>\n",
       "      <td>1958210</td>\n",
       "      <td>425</td>\n",
       "      <td>NaCl 3% (ml/hr)</td>\n",
       "      <td>30</td>\n",
       "      <td>30.0</td>\n",
       "      <td>NaN</td>\n",
       "      <td>NaN</td>\n",
       "      <td>NaN</td>\n",
       "      <td>3p hypertonic saline</td>\n",
       "    </tr>\n",
       "  </tbody>\n",
       "</table>\n",
       "</div>"
      ],
      "text/plain": [
       "       diagnosisid  patientunitstayid  activeupondischarge  diagnosisoffset  \\\n",
       "14411      4875592             306989                False              432   \n",
       "14414      4875592             306989                False              432   \n",
       "14415      4875592             306989                False              432   \n",
       "14416      4875592             306989                False              432   \n",
       "14417      4875592             306989                False              432   \n",
       "\n",
       "                                                                                    diagnosisstring  \\\n",
       "14411  burns/trauma|trauma - CNS|intracranial injury|with loss of consciousness of unknown duration   \n",
       "14414  burns/trauma|trauma - CNS|intracranial injury|with loss of consciousness of unknown duration   \n",
       "14415  burns/trauma|trauma - CNS|intracranial injury|with loss of consciousness of unknown duration   \n",
       "14416  burns/trauma|trauma - CNS|intracranial injury|with loss of consciousness of unknown duration   \n",
       "14417  burns/trauma|trauma - CNS|intracranial injury|with loss of consciousness of unknown duration   \n",
       "\n",
       "            icd9code diagnosispriority  infusiondrugid  infusionoffset  \\\n",
       "14411  854.06, S06.2             Major         1990086            2405   \n",
       "14414  854.06, S06.2             Major         1965137            1625   \n",
       "14415  854.06, S06.2             Major         1953244            1865   \n",
       "14416  854.06, S06.2             Major         1950727            2165   \n",
       "14417  854.06, S06.2             Major         1958210             425   \n",
       "\n",
       "              drugname drugrate  infusionrate  drugamount  volumeoffluid  \\\n",
       "14411  NaCl 3% (ml/hr)        0           0.0         NaN            NaN   \n",
       "14414  NaCl 3% (ml/hr)       30          30.0         NaN            NaN   \n",
       "14415  NaCl 3% (ml/hr)       30          30.0         NaN            NaN   \n",
       "14416  NaCl 3% (ml/hr)       30          30.0         NaN            NaN   \n",
       "14417  NaCl 3% (ml/hr)       30          30.0         NaN            NaN   \n",
       "\n",
       "       patientweight                    ms  \n",
       "14411            NaN  3p hypertonic saline  \n",
       "14414            NaN  3p hypertonic saline  \n",
       "14415            NaN  3p hypertonic saline  \n",
       "14416            NaN  3p hypertonic saline  \n",
       "14417            NaN  3p hypertonic saline  "
      ]
     },
     "execution_count": 14,
     "metadata": {},
     "output_type": "execute_result"
    }
   ],
   "source": [
    "diag_drugs1.head()"
   ]
  },
  {
   "cell_type": "code",
   "execution_count": 15,
   "id": "8e543b41-b70d-4dce-8b49-04f0839452ce",
   "metadata": {},
   "outputs": [
    {
     "data": {
      "text/html": [
       "<div>\n",
       "<style scoped>\n",
       "    .dataframe tbody tr th:only-of-type {\n",
       "        vertical-align: middle;\n",
       "    }\n",
       "\n",
       "    .dataframe tbody tr th {\n",
       "        vertical-align: top;\n",
       "    }\n",
       "\n",
       "    .dataframe thead th {\n",
       "        text-align: right;\n",
       "    }\n",
       "</style>\n",
       "<table border=\"1\" class=\"dataframe\">\n",
       "  <thead>\n",
       "    <tr style=\"text-align: right;\">\n",
       "      <th></th>\n",
       "      <th>diagnosisid</th>\n",
       "      <th>patientunitstayid</th>\n",
       "      <th>activeupondischarge</th>\n",
       "      <th>diagnosisoffset</th>\n",
       "      <th>diagnosisstring</th>\n",
       "      <th>icd9code</th>\n",
       "      <th>diagnosispriority</th>\n",
       "      <th>infusiondrugid</th>\n",
       "      <th>infusionoffset</th>\n",
       "      <th>drugname</th>\n",
       "      <th>drugrate</th>\n",
       "      <th>infusionrate</th>\n",
       "      <th>drugamount</th>\n",
       "      <th>volumeoffluid</th>\n",
       "      <th>patientweight</th>\n",
       "      <th>ms</th>\n",
       "    </tr>\n",
       "  </thead>\n",
       "  <tbody>\n",
       "    <tr>\n",
       "      <th>14440</th>\n",
       "      <td>4814952</td>\n",
       "      <td>306989</td>\n",
       "      <td>False</td>\n",
       "      <td>748</td>\n",
       "      <td>burns/trauma|trauma - CNS|intracranial injury|with subdural hematoma</td>\n",
       "      <td>852.20, S06.5</td>\n",
       "      <td>Primary</td>\n",
       "      <td>1965137</td>\n",
       "      <td>1625</td>\n",
       "      <td>NaCl 3% (ml/hr)</td>\n",
       "      <td>30</td>\n",
       "      <td>30.0</td>\n",
       "      <td>NaN</td>\n",
       "      <td>NaN</td>\n",
       "      <td>NaN</td>\n",
       "      <td>3p hypertonic saline</td>\n",
       "    </tr>\n",
       "    <tr>\n",
       "      <th>14441</th>\n",
       "      <td>4814952</td>\n",
       "      <td>306989</td>\n",
       "      <td>False</td>\n",
       "      <td>748</td>\n",
       "      <td>burns/trauma|trauma - CNS|intracranial injury|with subdural hematoma</td>\n",
       "      <td>852.20, S06.5</td>\n",
       "      <td>Primary</td>\n",
       "      <td>1953244</td>\n",
       "      <td>1865</td>\n",
       "      <td>NaCl 3% (ml/hr)</td>\n",
       "      <td>30</td>\n",
       "      <td>30.0</td>\n",
       "      <td>NaN</td>\n",
       "      <td>NaN</td>\n",
       "      <td>NaN</td>\n",
       "      <td>3p hypertonic saline</td>\n",
       "    </tr>\n",
       "    <tr>\n",
       "      <th>14442</th>\n",
       "      <td>4814952</td>\n",
       "      <td>306989</td>\n",
       "      <td>False</td>\n",
       "      <td>748</td>\n",
       "      <td>burns/trauma|trauma - CNS|intracranial injury|with subdural hematoma</td>\n",
       "      <td>852.20, S06.5</td>\n",
       "      <td>Primary</td>\n",
       "      <td>1950727</td>\n",
       "      <td>2165</td>\n",
       "      <td>NaCl 3% (ml/hr)</td>\n",
       "      <td>30</td>\n",
       "      <td>30.0</td>\n",
       "      <td>NaN</td>\n",
       "      <td>NaN</td>\n",
       "      <td>NaN</td>\n",
       "      <td>3p hypertonic saline</td>\n",
       "    </tr>\n",
       "    <tr>\n",
       "      <th>14443</th>\n",
       "      <td>4814952</td>\n",
       "      <td>306989</td>\n",
       "      <td>False</td>\n",
       "      <td>748</td>\n",
       "      <td>burns/trauma|trauma - CNS|intracranial injury|with subdural hematoma</td>\n",
       "      <td>852.20, S06.5</td>\n",
       "      <td>Primary</td>\n",
       "      <td>1958210</td>\n",
       "      <td>425</td>\n",
       "      <td>NaCl 3% (ml/hr)</td>\n",
       "      <td>30</td>\n",
       "      <td>30.0</td>\n",
       "      <td>NaN</td>\n",
       "      <td>NaN</td>\n",
       "      <td>NaN</td>\n",
       "      <td>3p hypertonic saline</td>\n",
       "    </tr>\n",
       "  </tbody>\n",
       "</table>\n",
       "</div>"
      ],
      "text/plain": [
       "       diagnosisid  patientunitstayid  activeupondischarge  diagnosisoffset  \\\n",
       "14440      4814952             306989                False              748   \n",
       "14441      4814952             306989                False              748   \n",
       "14442      4814952             306989                False              748   \n",
       "14443      4814952             306989                False              748   \n",
       "\n",
       "                                                            diagnosisstring  \\\n",
       "14440  burns/trauma|trauma - CNS|intracranial injury|with subdural hematoma   \n",
       "14441  burns/trauma|trauma - CNS|intracranial injury|with subdural hematoma   \n",
       "14442  burns/trauma|trauma - CNS|intracranial injury|with subdural hematoma   \n",
       "14443  burns/trauma|trauma - CNS|intracranial injury|with subdural hematoma   \n",
       "\n",
       "            icd9code diagnosispriority  infusiondrugid  infusionoffset  \\\n",
       "14440  852.20, S06.5           Primary         1965137            1625   \n",
       "14441  852.20, S06.5           Primary         1953244            1865   \n",
       "14442  852.20, S06.5           Primary         1950727            2165   \n",
       "14443  852.20, S06.5           Primary         1958210             425   \n",
       "\n",
       "              drugname drugrate  infusionrate  drugamount  volumeoffluid  \\\n",
       "14440  NaCl 3% (ml/hr)       30          30.0         NaN            NaN   \n",
       "14441  NaCl 3% (ml/hr)       30          30.0         NaN            NaN   \n",
       "14442  NaCl 3% (ml/hr)       30          30.0         NaN            NaN   \n",
       "14443  NaCl 3% (ml/hr)       30          30.0         NaN            NaN   \n",
       "\n",
       "       patientweight                    ms  \n",
       "14440            NaN  3p hypertonic saline  \n",
       "14441            NaN  3p hypertonic saline  \n",
       "14442            NaN  3p hypertonic saline  \n",
       "14443            NaN  3p hypertonic saline  "
      ]
     },
     "execution_count": 15,
     "metadata": {},
     "output_type": "execute_result"
    }
   ],
   "source": [
    "diag_drugs1[(diag_drugs1[\"patientunitstayid\"]==306989) & (diag_drugs1[\"drugrate\"]!=\"0\") & (diag_drugs1[\"diagnosispriority\"]==\"Primary\")].drop_duplicates(\"infusiondrugid\")"
   ]
  },
  {
   "cell_type": "code",
   "execution_count": 12,
   "id": "4cb757a5-821a-46e0-99e5-b673f8938071",
   "metadata": {},
   "outputs": [],
   "source": [
    "diag_drugs2 = diag_drugs1[(diag_drugs1[\"infusionrate\"]!=\"0\")].drop_duplicates(\"infusiondrugid\")"
   ]
  },
  {
   "cell_type": "code",
   "execution_count": 37,
   "id": "223823ea-cc78-4474-b313-f058762aceff",
   "metadata": {},
   "outputs": [
    {
     "name": "stdout",
     "output_type": "stream",
     "text": [
      "Total number of Hypertonic Saline / Mannitol uses:\n",
      "----------------------------------\n",
      "ms                 \n",
      "hypertonic saline      545\n",
      "mannitol               209\n",
      "mannitol + dextrose      5\n",
      "dtype: int64\n",
      "\n",
      "Among Hypertonic Saline / Mannitol uses:\n",
      "----------------------------------\n",
      "Unique Patient stays: 60\n"
     ]
    }
   ],
   "source": [
    "print(\"Total number of Hypertonic Saline / Mannitol uses:\")\n",
    "print(\"----------------------------------\")\n",
    "print(diag_drugs2.value_counts([ \"ms\"]))\n",
    "print(\"\\nAmong Hypertonic Saline / Mannitol uses:\")\n",
    "print(\"----------------------------------\")\n",
    "print(f\"Unique Patient stays: {diag_drugs2['patientunitstayid'].nunique()}\")"
   ]
  },
  {
   "cell_type": "code",
   "execution_count": 7,
   "id": "2b675471-c708-4474-a60e-3db12870313d",
   "metadata": {},
   "outputs": [],
   "source": [
    "patients = diag[\"patientunitstayid\"].unique()"
   ]
  },
  {
   "cell_type": "code",
   "execution_count": 3,
   "id": "dcc23464-543a-40ec-8a0c-064d7a1a1b02",
   "metadata": {},
   "outputs": [],
   "source": [
    "from tqdm import tqdm"
   ]
  },
  {
   "cell_type": "code",
   "execution_count": 4,
   "id": "00f15b22-6507-41e5-bfd6-196c1085933a",
   "metadata": {},
   "outputs": [
    {
     "name": "stderr",
     "output_type": "stream",
     "text": [
      "2934it [03:35, 13.65it/s]\n"
     ]
    }
   ],
   "source": [
    "vitals = pd.read_csv(\"./eicu-collaborative-research-database-2.0/vitalPeriodic.csv.gz\", compression=\"gzip\", chunksize=50000)\n",
    "vts = {}\n",
    "for v in tqdm(vitals):\n",
    "    patients = list(v[~(v[\"icp\"].isnull())]['patientunitstayid'])\n",
    "    for patient in patients:\n",
    "        if patient not in vts:\n",
    "            vts[patient] = 0\n",
    "        vts[patient] += 1\n",
    "#     vts = vts.append(v)#v.loc[(v['patientunitstayid'].isin(patients))])"
   ]
  },
  {
   "cell_type": "code",
   "execution_count": 5,
   "id": "92e4563f-e453-46f7-a9f0-53664b2899ab",
   "metadata": {},
   "outputs": [],
   "source": [
    "a = list(vts.values())"
   ]
  },
  {
   "cell_type": "code",
   "execution_count": 7,
   "id": "684ad95d-e9d9-4d3e-9e48-1f1150e3ce9b",
   "metadata": {},
   "outputs": [
    {
     "data": {
      "text/plain": [
       "1634"
      ]
     },
     "execution_count": 7,
     "metadata": {},
     "output_type": "execute_result"
    }
   ],
   "source": [
    "len(a)"
   ]
  },
  {
   "cell_type": "code",
   "execution_count": 16,
   "id": "bf9896b6-5b51-4aa8-b545-d83cbafa1593",
   "metadata": {},
   "outputs": [],
   "source": [
    "a = list((vts[~(vts[\"icp\"].isnull())].value_counts(['patientunitstayid'])))#.to_csv(\"eicu_tbi_patient_icp_records.csv\", index=False)"
   ]
  },
  {
   "cell_type": "code",
   "execution_count": 6,
   "id": "b2788cd2-12c4-4611-8529-561f33c23820",
   "metadata": {},
   "outputs": [
    {
     "name": "stdout",
     "output_type": "stream",
     "text": [
      "1405 1353\n"
     ]
    }
   ],
   "source": [
    "i = 0\n",
    "ii=0\n",
    "for j in a:\n",
    "    if j > 10:\n",
    "        i+=1\n",
    "    if j>100:\n",
    "        ii+=1\n",
    "print(i, ii)"
   ]
  },
  {
   "cell_type": "code",
   "execution_count": 31,
   "id": "1b279527-e226-4e78-aa63-ea3b0af02087",
   "metadata": {},
   "outputs": [],
   "source": [
    "vts.to_csv(\"eicu_all_tbi_patient_vitals.csv\", index=False)"
   ]
  },
  {
   "cell_type": "code",
   "execution_count": 30,
   "id": "6dcb71c7-9fa2-4328-9515-595ddaf3a54f",
   "metadata": {},
   "outputs": [
    {
     "data": {
      "text/plain": [
       "patientunitstayid\n",
       "306989                 524\n",
       "443155                   0\n",
       "566740                   0\n",
       "568858                1204\n",
       "572424                   0\n",
       "573005                   0\n",
       "578353                   0\n",
       "588720                3353\n",
       "594168                6409\n",
       "596967                   0\n",
       "607106                 911\n",
       "621883                1452\n",
       "622635                   0\n",
       "625891                   0\n",
       "627661                   0\n",
       "649154                8861\n",
       "661672                   0\n",
       "669189                   0\n",
       "678301                1957\n",
       "705339                   0\n",
       "708209                   0\n",
       "711642                   0\n",
       "730847                   0\n",
       "737676                   0\n",
       "740972                   0\n",
       "759141                   0\n",
       "763960                   0\n",
       "789888                   0\n",
       "803290                3409\n",
       "842038                   0\n",
       "849073                   0\n",
       "865863                4171\n",
       "867462                   0\n",
       "883872                 511\n",
       "884696                   0\n",
       "887608                   0\n",
       "889314                   0\n",
       "892782                1119\n",
       "921542                3216\n",
       "950067                   0\n",
       "1031201                775\n",
       "1052053                  0\n",
       "1811762               1952\n",
       "1821244               1841\n",
       "1852552                  0\n",
       "3159353                  0\n",
       "3201188               4153\n",
       "3205716               2982\n",
       "3205717               4133\n",
       "3210646               4974\n",
       "3211492                  0\n",
       "3212405               5684\n",
       "3217980                377\n",
       "3227651              11662\n",
       "3229717               1243\n",
       "3229718                285\n",
       "3244804                  0\n",
       "3337641                  0\n",
       "3345436               1324\n",
       "3347750                930\n",
       "dtype: int64"
      ]
     },
     "execution_count": 30,
     "metadata": {},
     "output_type": "execute_result"
    }
   ],
   "source": [
    "vts.value_counts(['patientunitstayid']) - vts[vts['icp'].isnull()].value_counts(['patientunitstayid'])"
   ]
  },
  {
   "cell_type": "code",
   "execution_count": null,
   "id": "6520f5f5-3ed8-48eb-af10-aa660e38d406",
   "metadata": {},
   "outputs": [],
   "source": [
    "patient_end = pd.read_csv(\"./eicu-collaborative-research-database-2.0/apachePatientResult.csv.gz\", compression=\"gzip\")\n",
    "patient_end = patient_end.loc[(patient_end['patientunitstayid'].isin(patients))]"
   ]
  },
  {
   "cell_type": "code",
   "execution_count": 36,
   "id": "3dfa2361-2835-4eeb-b166-a2362f93bcdd",
   "metadata": {},
   "outputs": [],
   "source": [
    "def label_drug(row):\n",
    "    if str(row[\"drugname\"]) in man:\n",
    "        return \"mannitol\"\n",
    "    elif str(row[\"drugname\"]) in man_d:\n",
    "        return \"mannitol + dextrose\"\n",
    "    elif str(row[\"drugname\"]) in sal:\n",
    "        return \"hypertonic saline\"\n",
    "    elif str(row[\"drugname\"]) in sal_d:\n",
    "        return \"23.4p hypertonic saline\"\n",
    "    else:\n",
    "        return \"others\"\n",
    "\n",
    "diag_drugs2[\"ms\"] = diag_drugs2.apply(label_drug, axis=1)"
   ]
  },
  {
   "cell_type": "code",
   "execution_count": null,
   "id": "9edeba1e-bc21-48ee-b33b-bcdcf54b75da",
   "metadata": {},
   "outputs": [],
   "source": [
    "patient_states = []"
   ]
  },
  {
   "cell_type": "code",
   "execution_count": 60,
   "id": "c88cd78d-5eff-413d-a66a-a45f5720f16f",
   "metadata": {},
   "outputs": [],
   "source": [
    "treatment = diag_drugs2[[\"patientunitstayid\", \"infusionoffset\", \"ms\",\"infusionrate\"]].copy()\n",
    "treatment[\"type\"] = \"ACTION\""
   ]
  },
  {
   "cell_type": "code",
   "execution_count": 67,
   "id": "0cfb20f7-4e61-4f2d-9c3b-e2a5d4044d18",
   "metadata": {},
   "outputs": [],
   "source": [
    "treatment = treatment.rename(columns={\"infusionoffset\": \"offset\"})"
   ]
  },
  {
   "cell_type": "code",
   "execution_count": 69,
   "id": "52d94f83-c6ef-419c-be7a-d6a033b0a2bf",
   "metadata": {},
   "outputs": [],
   "source": [
    "import numpy as np\n",
    "treatment[\"icp\"]=np.nan"
   ]
  },
  {
   "cell_type": "code",
   "execution_count": 23,
   "id": "a28fc906-7394-4ef9-b207-c925f56d857e",
   "metadata": {},
   "outputs": [
    {
     "data": {
      "text/plain": [
       "1731"
      ]
     },
     "execution_count": 23,
     "metadata": {},
     "output_type": "execute_result"
    }
   ],
   "source": [
    "diag_drugs[(diag_drugs[\"drugrate\"]!=\"0\")].drop_duplicates(\"infusiondrugid\")['patientunitstayid'].nunique()"
   ]
  },
  {
   "cell_type": "code",
   "execution_count": 54,
   "id": "621c9054-463d-4aef-aec4-df30b67abbb7",
   "metadata": {},
   "outputs": [],
   "source": [
    "vts1 = vts.sort_values([\"patientunitstayid\", \"observationoffset\"])[[\"patientunitstayid\",\"observationoffset\",\"icp\"]]"
   ]
  },
  {
   "cell_type": "code",
   "execution_count": 58,
   "id": "b6aa0042-3845-4a2a-b580-26bd4d6aa567",
   "metadata": {},
   "outputs": [],
   "source": [
    "vts1[\"type\"] = \"STATE\""
   ]
  },
  {
   "cell_type": "code",
   "execution_count": 66,
   "id": "6c17dbf1-260c-498c-a8b7-2b1815a4e895",
   "metadata": {},
   "outputs": [
    {
     "data": {
      "text/html": [
       "<div>\n",
       "<style scoped>\n",
       "    .dataframe tbody tr th:only-of-type {\n",
       "        vertical-align: middle;\n",
       "    }\n",
       "\n",
       "    .dataframe tbody tr th {\n",
       "        vertical-align: top;\n",
       "    }\n",
       "\n",
       "    .dataframe thead th {\n",
       "        text-align: right;\n",
       "    }\n",
       "</style>\n",
       "<table border=\"1\" class=\"dataframe\">\n",
       "  <thead>\n",
       "    <tr style=\"text-align: right;\">\n",
       "      <th></th>\n",
       "      <th>patientunitstayid</th>\n",
       "      <th>offset</th>\n",
       "      <th>icp</th>\n",
       "      <th>type</th>\n",
       "    </tr>\n",
       "  </thead>\n",
       "  <tbody>\n",
       "    <tr>\n",
       "      <th>11131154</th>\n",
       "      <td>306989</td>\n",
       "      <td>9</td>\n",
       "      <td>14.0</td>\n",
       "      <td>STATE</td>\n",
       "    </tr>\n",
       "    <tr>\n",
       "      <th>11131145</th>\n",
       "      <td>306989</td>\n",
       "      <td>14</td>\n",
       "      <td>16.0</td>\n",
       "      <td>STATE</td>\n",
       "    </tr>\n",
       "    <tr>\n",
       "      <th>11131136</th>\n",
       "      <td>306989</td>\n",
       "      <td>19</td>\n",
       "      <td>13.0</td>\n",
       "      <td>STATE</td>\n",
       "    </tr>\n",
       "    <tr>\n",
       "      <th>11131121</th>\n",
       "      <td>306989</td>\n",
       "      <td>24</td>\n",
       "      <td>14.0</td>\n",
       "      <td>STATE</td>\n",
       "    </tr>\n",
       "    <tr>\n",
       "      <th>11131106</th>\n",
       "      <td>306989</td>\n",
       "      <td>29</td>\n",
       "      <td>14.0</td>\n",
       "      <td>STATE</td>\n",
       "    </tr>\n",
       "    <tr>\n",
       "      <th>...</th>\n",
       "      <td>...</td>\n",
       "      <td>...</td>\n",
       "      <td>...</td>\n",
       "      <td>...</td>\n",
       "    </tr>\n",
       "    <tr>\n",
       "      <th>145789246</th>\n",
       "      <td>3347750</td>\n",
       "      <td>5393</td>\n",
       "      <td>8.0</td>\n",
       "      <td>STATE</td>\n",
       "    </tr>\n",
       "    <tr>\n",
       "      <th>145789238</th>\n",
       "      <td>3347750</td>\n",
       "      <td>5398</td>\n",
       "      <td>8.0</td>\n",
       "      <td>STATE</td>\n",
       "    </tr>\n",
       "    <tr>\n",
       "      <th>145790392</th>\n",
       "      <td>3347750</td>\n",
       "      <td>5403</td>\n",
       "      <td>8.0</td>\n",
       "      <td>STATE</td>\n",
       "    </tr>\n",
       "    <tr>\n",
       "      <th>145790684</th>\n",
       "      <td>3347750</td>\n",
       "      <td>5408</td>\n",
       "      <td>7.0</td>\n",
       "      <td>STATE</td>\n",
       "    </tr>\n",
       "    <tr>\n",
       "      <th>145789903</th>\n",
       "      <td>3347750</td>\n",
       "      <td>5413</td>\n",
       "      <td>-93.0</td>\n",
       "      <td>STATE</td>\n",
       "    </tr>\n",
       "  </tbody>\n",
       "</table>\n",
       "<p>79412 rows × 4 columns</p>\n",
       "</div>"
      ],
      "text/plain": [
       "           patientunitstayid  offset   icp   type\n",
       "11131154              306989       9  14.0  STATE\n",
       "11131145              306989      14  16.0  STATE\n",
       "11131136              306989      19  13.0  STATE\n",
       "11131121              306989      24  14.0  STATE\n",
       "11131106              306989      29  14.0  STATE\n",
       "...                      ...     ...   ...    ...\n",
       "145789246            3347750    5393   8.0  STATE\n",
       "145789238            3347750    5398   8.0  STATE\n",
       "145790392            3347750    5403   8.0  STATE\n",
       "145790684            3347750    5408   7.0  STATE\n",
       "145789903            3347750    5413 -93.0  STATE\n",
       "\n",
       "[79412 rows x 4 columns]"
      ]
     },
     "execution_count": 66,
     "metadata": {},
     "output_type": "execute_result"
    }
   ],
   "source": [
    "vts1.dropna(subset=[\"icp\"]).rename(columns={\"observationoffset\": \"offset\"})"
   ]
  },
  {
   "cell_type": "code",
   "execution_count": 71,
   "id": "b004996c-69c2-4ebf-8019-e6fe35407af9",
   "metadata": {},
   "outputs": [],
   "source": [
    "vta1 = vts1.dropna(subset=[\"icp\"]).rename(columns={\"observationoffset\": \"offset\"})"
   ]
  },
  {
   "cell_type": "code",
   "execution_count": 72,
   "id": "db0b230f-00e1-438b-87c7-8b4ff8dba16c",
   "metadata": {},
   "outputs": [],
   "source": [
    "vta1[\"ms\"] = \"-\"\n",
    "vta1[\"infusionrate\"] = np.nan"
   ]
  },
  {
   "cell_type": "code",
   "execution_count": 70,
   "id": "9bb0ffff-f367-4055-abcf-134ef57d6738",
   "metadata": {},
   "outputs": [
    {
     "data": {
      "text/html": [
       "<div>\n",
       "<style scoped>\n",
       "    .dataframe tbody tr th:only-of-type {\n",
       "        vertical-align: middle;\n",
       "    }\n",
       "\n",
       "    .dataframe tbody tr th {\n",
       "        vertical-align: top;\n",
       "    }\n",
       "\n",
       "    .dataframe thead th {\n",
       "        text-align: right;\n",
       "    }\n",
       "</style>\n",
       "<table border=\"1\" class=\"dataframe\">\n",
       "  <thead>\n",
       "    <tr style=\"text-align: right;\">\n",
       "      <th></th>\n",
       "      <th>patientunitstayid</th>\n",
       "      <th>offset</th>\n",
       "      <th>ms</th>\n",
       "      <th>infusionrate</th>\n",
       "      <th>type</th>\n",
       "      <th>icp</th>\n",
       "    </tr>\n",
       "  </thead>\n",
       "  <tbody>\n",
       "    <tr>\n",
       "      <th>14414</th>\n",
       "      <td>306989</td>\n",
       "      <td>1625</td>\n",
       "      <td>hypertonic saline</td>\n",
       "      <td>30.0</td>\n",
       "      <td>ACTION</td>\n",
       "      <td>NaN</td>\n",
       "    </tr>\n",
       "    <tr>\n",
       "      <th>14415</th>\n",
       "      <td>306989</td>\n",
       "      <td>1865</td>\n",
       "      <td>hypertonic saline</td>\n",
       "      <td>30.0</td>\n",
       "      <td>ACTION</td>\n",
       "      <td>NaN</td>\n",
       "    </tr>\n",
       "    <tr>\n",
       "      <th>14416</th>\n",
       "      <td>306989</td>\n",
       "      <td>2165</td>\n",
       "      <td>hypertonic saline</td>\n",
       "      <td>30.0</td>\n",
       "      <td>ACTION</td>\n",
       "      <td>NaN</td>\n",
       "    </tr>\n",
       "    <tr>\n",
       "      <th>14417</th>\n",
       "      <td>306989</td>\n",
       "      <td>425</td>\n",
       "      <td>hypertonic saline</td>\n",
       "      <td>30.0</td>\n",
       "      <td>ACTION</td>\n",
       "      <td>NaN</td>\n",
       "    </tr>\n",
       "    <tr>\n",
       "      <th>17535</th>\n",
       "      <td>443155</td>\n",
       "      <td>2120</td>\n",
       "      <td>hypertonic saline</td>\n",
       "      <td>30.0</td>\n",
       "      <td>ACTION</td>\n",
       "      <td>NaN</td>\n",
       "    </tr>\n",
       "    <tr>\n",
       "      <th>...</th>\n",
       "      <td>...</td>\n",
       "      <td>...</td>\n",
       "      <td>...</td>\n",
       "      <td>...</td>\n",
       "      <td>...</td>\n",
       "      <td>...</td>\n",
       "    </tr>\n",
       "    <tr>\n",
       "      <th>8013825</th>\n",
       "      <td>3337641</td>\n",
       "      <td>378</td>\n",
       "      <td>mannitol + dextrose</td>\n",
       "      <td>NaN</td>\n",
       "      <td>ACTION</td>\n",
       "      <td>NaN</td>\n",
       "    </tr>\n",
       "    <tr>\n",
       "      <th>8013827</th>\n",
       "      <td>3337641</td>\n",
       "      <td>1039</td>\n",
       "      <td>mannitol + dextrose</td>\n",
       "      <td>NaN</td>\n",
       "      <td>ACTION</td>\n",
       "      <td>NaN</td>\n",
       "    </tr>\n",
       "    <tr>\n",
       "      <th>8013829</th>\n",
       "      <td>3337641</td>\n",
       "      <td>711</td>\n",
       "      <td>mannitol + dextrose</td>\n",
       "      <td>NaN</td>\n",
       "      <td>ACTION</td>\n",
       "      <td>NaN</td>\n",
       "    </tr>\n",
       "    <tr>\n",
       "      <th>8018755</th>\n",
       "      <td>3345436</td>\n",
       "      <td>1922</td>\n",
       "      <td>mannitol + dextrose</td>\n",
       "      <td>NaN</td>\n",
       "      <td>ACTION</td>\n",
       "      <td>NaN</td>\n",
       "    </tr>\n",
       "    <tr>\n",
       "      <th>8019062</th>\n",
       "      <td>3347750</td>\n",
       "      <td>1116</td>\n",
       "      <td>mannitol + dextrose</td>\n",
       "      <td>NaN</td>\n",
       "      <td>ACTION</td>\n",
       "      <td>NaN</td>\n",
       "    </tr>\n",
       "  </tbody>\n",
       "</table>\n",
       "<p>731 rows × 6 columns</p>\n",
       "</div>"
      ],
      "text/plain": [
       "         patientunitstayid  offset                   ms  infusionrate    type  \\\n",
       "14414               306989    1625    hypertonic saline          30.0  ACTION   \n",
       "14415               306989    1865    hypertonic saline          30.0  ACTION   \n",
       "14416               306989    2165    hypertonic saline          30.0  ACTION   \n",
       "14417               306989     425    hypertonic saline          30.0  ACTION   \n",
       "17535               443155    2120    hypertonic saline          30.0  ACTION   \n",
       "...                    ...     ...                  ...           ...     ...   \n",
       "8013825            3337641     378  mannitol + dextrose           NaN  ACTION   \n",
       "8013827            3337641    1039  mannitol + dextrose           NaN  ACTION   \n",
       "8013829            3337641     711  mannitol + dextrose           NaN  ACTION   \n",
       "8018755            3345436    1922  mannitol + dextrose           NaN  ACTION   \n",
       "8019062            3347750    1116  mannitol + dextrose           NaN  ACTION   \n",
       "\n",
       "         icp  \n",
       "14414    NaN  \n",
       "14415    NaN  \n",
       "14416    NaN  \n",
       "14417    NaN  \n",
       "17535    NaN  \n",
       "...      ...  \n",
       "8013825  NaN  \n",
       "8013827  NaN  \n",
       "8013829  NaN  \n",
       "8018755  NaN  \n",
       "8019062  NaN  \n",
       "\n",
       "[731 rows x 6 columns]"
      ]
     },
     "execution_count": 70,
     "metadata": {},
     "output_type": "execute_result"
    }
   ],
   "source": [
    "treatment"
   ]
  },
  {
   "cell_type": "code",
   "execution_count": 51,
   "id": "0fddd12a-cbd4-452f-b3ee-f7469b51f2e5",
   "metadata": {},
   "outputs": [],
   "source": [
    "patient_end.drop_duplicates([\"patientunitstayid\", \"actualicumortality\"])[[\"patientunitstayid\", \"actualicumortality\"]].to_csv(\"eicu_patient_ends.csv\", index=False)"
   ]
  },
  {
   "cell_type": "code",
   "execution_count": 50,
   "id": "1a1ddd1b-7c91-40a8-8251-b8bf66dea444",
   "metadata": {},
   "outputs": [
    {
     "data": {
      "text/plain": [
       "patientunitstayid    53\n",
       "dtype: int64"
      ]
     },
     "execution_count": 50,
     "metadata": {},
     "output_type": "execute_result"
    }
   ],
   "source": [
    "patient_end[[\"patientunitstayid\"]].nunique()"
   ]
  },
  {
   "cell_type": "code",
   "execution_count": 75,
   "id": "12a89fbb-86a3-452a-a652-59a65aea3f87",
   "metadata": {},
   "outputs": [],
   "source": [
    "out = treatment.append(vta1).sort_values([\"patientunitstayid\", \"offset\"])"
   ]
  },
  {
   "cell_type": "code",
   "execution_count": 77,
   "id": "670c9579-46b2-4da8-8493-d32fecd10ef2",
   "metadata": {},
   "outputs": [
    {
     "data": {
      "text/html": [
       "<div>\n",
       "<style scoped>\n",
       "    .dataframe tbody tr th:only-of-type {\n",
       "        vertical-align: middle;\n",
       "    }\n",
       "\n",
       "    .dataframe tbody tr th {\n",
       "        vertical-align: top;\n",
       "    }\n",
       "\n",
       "    .dataframe thead th {\n",
       "        text-align: right;\n",
       "    }\n",
       "</style>\n",
       "<table border=\"1\" class=\"dataframe\">\n",
       "  <thead>\n",
       "    <tr style=\"text-align: right;\">\n",
       "      <th></th>\n",
       "      <th>patientunitstayid</th>\n",
       "      <th>offset</th>\n",
       "      <th>ms</th>\n",
       "      <th>infusionrate</th>\n",
       "      <th>type</th>\n",
       "      <th>icp</th>\n",
       "    </tr>\n",
       "  </thead>\n",
       "  <tbody>\n",
       "    <tr>\n",
       "      <th>11131154</th>\n",
       "      <td>306989</td>\n",
       "      <td>9</td>\n",
       "      <td>-</td>\n",
       "      <td>NaN</td>\n",
       "      <td>STATE</td>\n",
       "      <td>14.0</td>\n",
       "    </tr>\n",
       "    <tr>\n",
       "      <th>11131145</th>\n",
       "      <td>306989</td>\n",
       "      <td>14</td>\n",
       "      <td>-</td>\n",
       "      <td>NaN</td>\n",
       "      <td>STATE</td>\n",
       "      <td>16.0</td>\n",
       "    </tr>\n",
       "    <tr>\n",
       "      <th>11131136</th>\n",
       "      <td>306989</td>\n",
       "      <td>19</td>\n",
       "      <td>-</td>\n",
       "      <td>NaN</td>\n",
       "      <td>STATE</td>\n",
       "      <td>13.0</td>\n",
       "    </tr>\n",
       "    <tr>\n",
       "      <th>11131121</th>\n",
       "      <td>306989</td>\n",
       "      <td>24</td>\n",
       "      <td>-</td>\n",
       "      <td>NaN</td>\n",
       "      <td>STATE</td>\n",
       "      <td>14.0</td>\n",
       "    </tr>\n",
       "    <tr>\n",
       "      <th>11131106</th>\n",
       "      <td>306989</td>\n",
       "      <td>29</td>\n",
       "      <td>-</td>\n",
       "      <td>NaN</td>\n",
       "      <td>STATE</td>\n",
       "      <td>14.0</td>\n",
       "    </tr>\n",
       "    <tr>\n",
       "      <th>...</th>\n",
       "      <td>...</td>\n",
       "      <td>...</td>\n",
       "      <td>...</td>\n",
       "      <td>...</td>\n",
       "      <td>...</td>\n",
       "      <td>...</td>\n",
       "    </tr>\n",
       "    <tr>\n",
       "      <th>11131059</th>\n",
       "      <td>306989</td>\n",
       "      <td>2644</td>\n",
       "      <td>-</td>\n",
       "      <td>NaN</td>\n",
       "      <td>STATE</td>\n",
       "      <td>4.0</td>\n",
       "    </tr>\n",
       "    <tr>\n",
       "      <th>11131104</th>\n",
       "      <td>306989</td>\n",
       "      <td>2649</td>\n",
       "      <td>-</td>\n",
       "      <td>NaN</td>\n",
       "      <td>STATE</td>\n",
       "      <td>4.0</td>\n",
       "    </tr>\n",
       "    <tr>\n",
       "      <th>11130987</th>\n",
       "      <td>306989</td>\n",
       "      <td>2654</td>\n",
       "      <td>-</td>\n",
       "      <td>NaN</td>\n",
       "      <td>STATE</td>\n",
       "      <td>4.0</td>\n",
       "    </tr>\n",
       "    <tr>\n",
       "      <th>11131086</th>\n",
       "      <td>306989</td>\n",
       "      <td>2659</td>\n",
       "      <td>-</td>\n",
       "      <td>NaN</td>\n",
       "      <td>STATE</td>\n",
       "      <td>4.0</td>\n",
       "    </tr>\n",
       "    <tr>\n",
       "      <th>11131122</th>\n",
       "      <td>306989</td>\n",
       "      <td>2664</td>\n",
       "      <td>-</td>\n",
       "      <td>NaN</td>\n",
       "      <td>STATE</td>\n",
       "      <td>4.0</td>\n",
       "    </tr>\n",
       "  </tbody>\n",
       "</table>\n",
       "<p>528 rows × 6 columns</p>\n",
       "</div>"
      ],
      "text/plain": [
       "          patientunitstayid  offset ms  infusionrate   type   icp\n",
       "11131154             306989       9  -           NaN  STATE  14.0\n",
       "11131145             306989      14  -           NaN  STATE  16.0\n",
       "11131136             306989      19  -           NaN  STATE  13.0\n",
       "11131121             306989      24  -           NaN  STATE  14.0\n",
       "11131106             306989      29  -           NaN  STATE  14.0\n",
       "...                     ...     ... ..           ...    ...   ...\n",
       "11131059             306989    2644  -           NaN  STATE   4.0\n",
       "11131104             306989    2649  -           NaN  STATE   4.0\n",
       "11130987             306989    2654  -           NaN  STATE   4.0\n",
       "11131086             306989    2659  -           NaN  STATE   4.0\n",
       "11131122             306989    2664  -           NaN  STATE   4.0\n",
       "\n",
       "[528 rows x 6 columns]"
      ]
     },
     "execution_count": 77,
     "metadata": {},
     "output_type": "execute_result"
    }
   ],
   "source": [
    "out[out[\"patientunitstayid\"] == patients[0]]"
   ]
  },
  {
   "cell_type": "code",
   "execution_count": 79,
   "id": "23e1a557-fbf5-49b3-96bb-1e15709cd4cc",
   "metadata": {},
   "outputs": [],
   "source": [
    "out.to_csv(\"eicu_patient_state_actions.csv\", index=False)"
   ]
  },
  {
   "cell_type": "code",
   "execution_count": 16,
   "id": "e68eeeaf-d01d-4319-b5f5-eb166298ef60",
   "metadata": {},
   "outputs": [],
   "source": [
    "nurseCharting = pd.read_csv(\"./eicu-collaborative-research-database-2.0/nurseCharting.csv.gz\", compression=\"gzip\", chunksize=10000)\n",
    "nurse = pd.DataFrame()\n",
    "for n in nurseCharting:\n",
    "    nurse = nurse.append(n.loc[(n['patientunitstayid'].isin(patients))])"
   ]
  },
  {
   "cell_type": "code",
   "execution_count": 20,
   "id": "7ea9677f-79d0-4c65-89ee-0b219eb71ce4",
   "metadata": {},
   "outputs": [
    {
     "data": {
      "text/plain": [
       "array([ 306989, 1031201, 1811762, 1821244, 3201188, 3205716, 3205717,\n",
       "       3210646, 3212405, 3217980, 3227651, 3229717, 3229718, 3345436,\n",
       "       3347750], dtype=int64)"
      ]
     },
     "execution_count": 20,
     "metadata": {},
     "output_type": "execute_result"
    }
   ],
   "source": [
    "nurse[nurse[\"nursingchartcelltypevallabel\"]==\"ICP\"]['patientunitstayid'].unique()"
   ]
  },
  {
   "cell_type": "code",
   "execution_count": 27,
   "id": "45a7f276-9b81-4258-ba44-e7277bd0ebd7",
   "metadata": {},
   "outputs": [
    {
     "data": {
      "text/plain": [
       "3227651    3654\n",
       "3212405    2864\n",
       "1031201    1756\n",
       "1052053    1517\n",
       "594168     1358\n",
       "3201188    1324\n",
       "588720     1280\n",
       "921542     1148\n",
       "865863     1140\n",
       "3205717    1140\n",
       "649154     1134\n",
       "803290     1100\n",
       "3217980    1002\n",
       "3210646     966\n",
       "607106      646\n",
       "849073      546\n",
       "621883      516\n",
       "3205716     492\n",
       "678301      480\n",
       "3244804     448\n",
       "883872      440\n",
       "3159353     404\n",
       "789888      392\n",
       "3229717     376\n",
       "669189      364\n",
       "3211492     360\n",
       "573005      324\n",
       "711642      320\n",
       "737676      240\n",
       "950067      232\n",
       "661672      224\n",
       "566740      220\n",
       "1852552     188\n",
       "578353      164\n",
       "1811762     164\n",
       "627661      164\n",
       "3347750     148\n",
       "887608      146\n",
       "889314      144\n",
       "443155      136\n",
       "705339      128\n",
       "3229718     120\n",
       "1821244     120\n",
       "708209      116\n",
       "867462      112\n",
       "568858      103\n",
       "572424       88\n",
       "842038       84\n",
       "596967       82\n",
       "622635       80\n",
       "763960       80\n",
       "884696       64\n",
       "625891       60\n",
       "892782       60\n",
       "3345436      32\n",
       "759141       24\n",
       "306989       20\n",
       "730847       13\n",
       "740972        4\n",
       "Name: patientunitstayid, dtype: int64"
      ]
     },
     "execution_count": 27,
     "metadata": {},
     "output_type": "execute_result"
    }
   ],
   "source": [
    "nurse[nurse[\"nursingchartcelltypevallabel\"]==\"Glasgow coma score\"]['patientunitstayid'].value_counts()"
   ]
  },
  {
   "cell_type": "code",
   "execution_count": 24,
   "id": "0f8fac01-c6c5-40b5-a073-16e3fd969972",
   "metadata": {},
   "outputs": [
    {
     "data": {
      "text/plain": [
       "array(['Invasive BP', 'Heart Rate', 'Non-Invasive BP', 'O2 Saturation',\n",
       "       'O2 Admin Device', 'Respiratory Rate', 'CPP', 'ICP', 'Temperature',\n",
       "       'O2 L/%', 'Glasgow coma score', 'Pain Score/Goal',\n",
       "       'Sedation Scale/Score/Goal', 'Bedside Glucose', 'Fall Risk',\n",
       "       'SpO2', 'CVP', 'Electrolyte Replacement', 'Delirium Scale/Score',\n",
       "       'End Tidal CO2'], dtype=object)"
      ]
     },
     "execution_count": 24,
     "metadata": {},
     "output_type": "execute_result"
    }
   ],
   "source": [
    "nurse[\"nursingchartcelltypevallabel\"].unique()"
   ]
  },
  {
   "cell_type": "code",
   "execution_count": 31,
   "id": "4577c463-ee62-4199-b12b-d841509b68c1",
   "metadata": {},
   "outputs": [],
   "source": [
    "gcs_total = nurse[(nurse[\"nursingchartcelltypevallabel\"]==\"Glasgow coma score\") & (nurse[\"nursingchartcelltypevalname\"]==\"GCS Total\")][[\"patientunitstayid\", \"nursingchartoffset\", \"nursingchartvalue\"]]"
   ]
  },
  {
   "cell_type": "code",
   "execution_count": 33,
   "id": "814bc707-7db8-4f6c-881b-9789653f2079",
   "metadata": {},
   "outputs": [
    {
     "data": {
      "text/plain": [
       "patientunitstayid       59\n",
       "nursingchartoffset    7689\n",
       "nursingchartvalue       14\n",
       "dtype: int64"
      ]
     },
     "execution_count": 33,
     "metadata": {},
     "output_type": "execute_result"
    }
   ],
   "source": [
    "gcs_total.nunique()#value_counts(\"patientunitstayid\")"
   ]
  },
  {
   "cell_type": "code",
   "execution_count": 34,
   "id": "3201ce52-ac93-47aa-8d46-0a3fd3af3b21",
   "metadata": {},
   "outputs": [],
   "source": [
    "gcs_total.to_csv(\"tbi_patients_gcs_total_scores.csv\", index=False)"
   ]
  },
  {
   "cell_type": "code",
   "execution_count": null,
   "id": "9e440168-21ef-47bc-9bda-dc094710b93e",
   "metadata": {},
   "outputs": [],
   "source": []
  }
 ],
 "metadata": {
  "kernelspec": {
   "display_name": "Python 3 (ipykernel)",
   "language": "python",
   "name": "python3"
  },
  "language_info": {
   "codemirror_mode": {
    "name": "ipython",
    "version": 3
   },
   "file_extension": ".py",
   "mimetype": "text/x-python",
   "name": "python",
   "nbconvert_exporter": "python",
   "pygments_lexer": "ipython3",
   "version": "3.7.0"
  }
 },
 "nbformat": 4,
 "nbformat_minor": 5
}
